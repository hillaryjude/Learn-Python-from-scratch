{
 "cells": [
  {
   "cell_type": "markdown",
   "metadata": {
    "id": "3GN-Wb8bierG"
   },
   "source": [
    "# CONCEPTS ON LIST, STRING, TUPLES, DICTIONARIES, SET"
   ]
  },
  {
   "cell_type": "markdown",
   "metadata": {},
   "source": [
    "## LIST"
   ]
  },
  {
   "cell_type": "markdown",
   "metadata": {
    "id": "ND4nRPjQjm-g"
   },
   "source": [
    "Extending"
   ]
  },
  {
   "cell_type": "code",
   "execution_count": 188,
   "metadata": {
    "colab": {
     "base_uri": "https://localhost:8080/"
    },
    "executionInfo": {
     "elapsed": 751,
     "status": "ok",
     "timestamp": 1726586180484,
     "user": {
      "displayName": "Hillary Jude",
      "userId": "17943637264411223929"
     },
     "user_tz": -330
    },
    "id": "SfuwrfUve1Nf",
    "outputId": "a1c80f68-0904-435b-fac1-f7aa6856e87c"
   },
   "outputs": [
    {
     "data": {
      "text/plain": [
       "[1, 2, 3, 2, 3, 4]"
      ]
     },
     "execution_count": 188,
     "metadata": {},
     "output_type": "execute_result"
    }
   ],
   "source": [
    "[1,2,3] + [2,3,4]"
   ]
  },
  {
   "cell_type": "code",
   "execution_count": 189,
   "metadata": {
    "colab": {
     "base_uri": "https://localhost:8080/"
    },
    "executionInfo": {
     "elapsed": 745,
     "status": "ok",
     "timestamp": 1726586230887,
     "user": {
      "displayName": "Hillary Jude",
      "userId": "17943637264411223929"
     },
     "user_tz": -330
    },
    "id": "a4H0ENDHjswD",
    "outputId": "9ead50dd-63c8-48e7-b816-35ba7053e5ae"
   },
   "outputs": [
    {
     "data": {
      "text/plain": [
       "[1, 2, 4, 1, 2, 4, 1, 2, 4]"
      ]
     },
     "execution_count": 189,
     "metadata": {},
     "output_type": "execute_result"
    }
   ],
   "source": [
    "[1,2,4] * 3"
   ]
  },
  {
   "cell_type": "code",
   "execution_count": 190,
   "metadata": {
    "colab": {
     "base_uri": "https://localhost:8080/",
     "height": 141
    },
    "executionInfo": {
     "elapsed": 844,
     "status": "error",
     "timestamp": 1726586253372,
     "user": {
      "displayName": "Hillary Jude",
      "userId": "17943637264411223929"
     },
     "user_tz": -330
    },
    "id": "gnhsYriFjssh",
    "outputId": "9d7dcaed-a075-4ce5-bc63-f4c7e8405703"
   },
   "outputs": [],
   "source": [
    "# [1,2,4] * [1,2,4] sequence cannot be multiplied with list"
   ]
  },
  {
   "cell_type": "code",
   "execution_count": 191,
   "metadata": {
    "id": "Ut0YvftJjsqF"
   },
   "outputs": [],
   "source": [
    "marks = [12,80,34,28,99]\n",
    "marks.sort()"
   ]
  },
  {
   "cell_type": "code",
   "execution_count": 192,
   "metadata": {
    "colab": {
     "base_uri": "https://localhost:8080/"
    },
    "executionInfo": {
     "elapsed": 859,
     "status": "ok",
     "timestamp": 1726586466889,
     "user": {
      "displayName": "Hillary Jude",
      "userId": "17943637264411223929"
     },
     "user_tz": -330
    },
    "id": "Qi1BmZTbjsn5",
    "outputId": "e92d2fa2-83d5-49d9-a1bb-44eaa5303d4c"
   },
   "outputs": [
    {
     "name": "stdout",
     "output_type": "stream",
     "text": [
      "12\n",
      "28\n",
      "34\n",
      "80\n",
      "99\n"
     ]
    }
   ],
   "source": [
    "for i in marks:\n",
    "  print(i)"
   ]
  },
  {
   "cell_type": "code",
   "execution_count": 193,
   "metadata": {
    "colab": {
     "base_uri": "https://localhost:8080/"
    },
    "executionInfo": {
     "elapsed": 664,
     "status": "ok",
     "timestamp": 1726586502209,
     "user": {
      "displayName": "Hillary Jude",
      "userId": "17943637264411223929"
     },
     "user_tz": -330
    },
    "id": "TkmbRTmBksQH",
    "outputId": "ee8dc469-ee7a-4e0e-f332-062327c06c48"
   },
   "outputs": [
    {
     "name": "stdout",
     "output_type": "stream",
     "text": [
      "12 28 34 80 99 "
     ]
    }
   ],
   "source": [
    "for i in marks:\n",
    "  print(i, end=\" \")"
   ]
  },
  {
   "cell_type": "code",
   "execution_count": 194,
   "metadata": {
    "colab": {
     "base_uri": "https://localhost:8080/"
    },
    "executionInfo": {
     "elapsed": 620,
     "status": "ok",
     "timestamp": 1726586520031,
     "user": {
      "displayName": "Hillary Jude",
      "userId": "17943637264411223929"
     },
     "user_tz": -330
    },
    "id": "1XlBSE1rjsa3",
    "outputId": "a5aad6e6-cd1c-4e2e-9656-2bc88bddece7"
   },
   "outputs": [
    {
     "name": "stdout",
     "output_type": "stream",
     "text": [
      "24 56 68 160 198 "
     ]
    }
   ],
   "source": [
    "for i in marks:\n",
    "  print(i*2, end=\" \")"
   ]
  },
  {
   "cell_type": "code",
   "execution_count": 195,
   "metadata": {
    "id": "6yYGT7ICk6zO"
   },
   "outputs": [],
   "source": [
    "#we cannot multiply the numbers inside a List. But this can be accomplished using Numpy"
   ]
  },
  {
   "cell_type": "code",
   "execution_count": 196,
   "metadata": {
    "colab": {
     "base_uri": "https://localhost:8080/"
    },
    "executionInfo": {
     "elapsed": 543,
     "status": "ok",
     "timestamp": 1726586876194,
     "user": {
      "displayName": "Hillary Jude",
      "userId": "17943637264411223929"
     },
     "user_tz": -330
    },
    "id": "0nomHs9Tk6vv",
    "outputId": "f0ac9cdb-19c5-42c0-d842-931869c8a763"
   },
   "outputs": [
    {
     "name": "stdout",
     "output_type": "stream",
     "text": [
      "[20, 30, 40, 50]\n",
      "[20, 30, 40, 50]\n",
      "[20, 30, 40, 50]\n"
     ]
    }
   ],
   "source": [
    "a = [20,30,40,50]\n",
    "b = a\n",
    "c = list(a) #this copies only the data and not the object (location)\n",
    "print(a)\n",
    "print(b)\n",
    "print(c)"
   ]
  },
  {
   "cell_type": "code",
   "execution_count": 197,
   "metadata": {
    "colab": {
     "base_uri": "https://localhost:8080/"
    },
    "executionInfo": {
     "elapsed": 827,
     "status": "ok",
     "timestamp": 1726586912311,
     "user": {
      "displayName": "Hillary Jude",
      "userId": "17943637264411223929"
     },
     "user_tz": -330
    },
    "id": "We0Rn8AQk6tO",
    "outputId": "baf06d4c-2c9a-4560-b7ec-cad9ddd7cd59"
   },
   "outputs": [
    {
     "name": "stdout",
     "output_type": "stream",
     "text": [
      "[20, 30, 40, 50]\n",
      "[20, 30, 55, 50]\n"
     ]
    }
   ],
   "source": [
    "a[2] = 55\n",
    "print(c)\n",
    "print(b) #when you use list() function, it creates a separate data,\n",
    "#but when you use an assignment operator a=b, both these variables reference the same data\n"
   ]
  },
  {
   "cell_type": "code",
   "execution_count": 198,
   "metadata": {
    "colab": {
     "base_uri": "https://localhost:8080/"
    },
    "executionInfo": {
     "elapsed": 626,
     "status": "ok",
     "timestamp": 1726587125299,
     "user": {
      "displayName": "Hillary Jude",
      "userId": "17943637264411223929"
     },
     "user_tz": -330
    },
    "id": "_tFXc5_7k6q9",
    "outputId": "d23a6643-268b-4c2f-9425-fa266c1f958f"
   },
   "outputs": [
    {
     "data": {
      "text/plain": [
       "2411611765696"
      ]
     },
     "execution_count": 198,
     "metadata": {},
     "output_type": "execute_result"
    }
   ],
   "source": [
    "# if I ask the id for a and b it will reference the same memory location\n",
    "id(a)"
   ]
  },
  {
   "cell_type": "code",
   "execution_count": 199,
   "metadata": {
    "colab": {
     "base_uri": "https://localhost:8080/"
    },
    "executionInfo": {
     "elapsed": 601,
     "status": "ok",
     "timestamp": 1726587131639,
     "user": {
      "displayName": "Hillary Jude",
      "userId": "17943637264411223929"
     },
     "user_tz": -330
    },
    "id": "c1jOXHGsk6oj",
    "outputId": "bc895b73-5052-4358-a420-25a4004ee46c"
   },
   "outputs": [
    {
     "data": {
      "text/plain": [
       "2411611765696"
      ]
     },
     "execution_count": 199,
     "metadata": {},
     "output_type": "execute_result"
    }
   ],
   "source": [
    "id(b)"
   ]
  },
  {
   "cell_type": "code",
   "execution_count": 200,
   "metadata": {
    "colab": {
     "base_uri": "https://localhost:8080/"
    },
    "executionInfo": {
     "elapsed": 616,
     "status": "ok",
     "timestamp": 1726587142391,
     "user": {
      "displayName": "Hillary Jude",
      "userId": "17943637264411223929"
     },
     "user_tz": -330
    },
    "id": "FdiRW05PnOqz",
    "outputId": "56e0133b-c75b-456f-a103-f82a225d3f16"
   },
   "outputs": [
    {
     "data": {
      "text/plain": [
       "2411611371648"
      ]
     },
     "execution_count": 200,
     "metadata": {},
     "output_type": "execute_result"
    }
   ],
   "source": [
    "id(c) #though the data may be same, but its data is stored in a separate location"
   ]
  },
  {
   "cell_type": "code",
   "execution_count": 201,
   "metadata": {
    "colab": {
     "base_uri": "https://localhost:8080/"
    },
    "executionInfo": {
     "elapsed": 623,
     "status": "ok",
     "timestamp": 1726587198409,
     "user": {
      "displayName": "Hillary Jude",
      "userId": "17943637264411223929"
     },
     "user_tz": -330
    },
    "id": "xo8DJT6LnOne",
    "outputId": "f0b86e23-15fb-4801-e836-e6bf64118f4e"
   },
   "outputs": [
    {
     "data": {
      "text/plain": [
       "True"
      ]
     },
     "execution_count": 201,
     "metadata": {},
     "output_type": "execute_result"
    }
   ],
   "source": [
    "a == b"
   ]
  },
  {
   "cell_type": "markdown",
   "metadata": {
    "id": "-1xDPmbOrQCe"
   },
   "source": [
    "**Shallow copy**\n",
    "Creates a new object, but the references to the original objects are copied. So, if you change an object in the original list, it will also change in the shallow copy.\n",
    "\n",
    "Deep copy: Creates a new object and recursively copies all the objects within it. So, changes made to one object won't affect the other."
   ]
  },
  {
   "cell_type": "code",
   "execution_count": 202,
   "metadata": {
    "colab": {
     "base_uri": "https://localhost:8080/"
    },
    "executionInfo": {
     "elapsed": 929,
     "status": "ok",
     "timestamp": 1726587399095,
     "user": {
      "displayName": "Hillary Jude",
      "userId": "17943637264411223929"
     },
     "user_tz": -330
    },
    "id": "45Ta2hp6n-0p",
    "outputId": "a6f0edc8-bc0f-40d9-d3f8-b4a98c36e68b"
   },
   "outputs": [
    {
     "name": "stdout",
     "output_type": "stream",
     "text": [
      "[23, 43, 66, 22]\n",
      "[23, 43, 66, 22]\n",
      "[23, 43, 66, 22]\n"
     ]
    }
   ],
   "source": [
    "L = [23,43,66,22]\n",
    "M = L #shallow copy\n",
    "O = list(M) #deep copy\n",
    "print(L)\n",
    "print(M)\n",
    "print(O)"
   ]
  },
  {
   "cell_type": "code",
   "execution_count": 203,
   "metadata": {
    "colab": {
     "base_uri": "https://localhost:8080/"
    },
    "executionInfo": {
     "elapsed": 1091,
     "status": "ok",
     "timestamp": 1726587425622,
     "user": {
      "displayName": "Hillary Jude",
      "userId": "17943637264411223929"
     },
     "user_tz": -330
    },
    "id": "4m3xlsLLn-xS",
    "outputId": "791bb1fd-376f-407b-e636-704cd10fe6fe"
   },
   "outputs": [
    {
     "data": {
      "text/plain": [
       "True"
      ]
     },
     "execution_count": 203,
     "metadata": {},
     "output_type": "execute_result"
    }
   ],
   "source": [
    "L==O # '==' operator checks for the values"
   ]
  },
  {
   "cell_type": "code",
   "execution_count": 204,
   "metadata": {
    "colab": {
     "base_uri": "https://localhost:8080/"
    },
    "executionInfo": {
     "elapsed": 637,
     "status": "ok",
     "timestamp": 1726587442120,
     "user": {
      "displayName": "Hillary Jude",
      "userId": "17943637264411223929"
     },
     "user_tz": -330
    },
    "id": "vb7_YYfXn-u8",
    "outputId": "eda650f0-37f6-4402-8cc8-50d2abe390ce"
   },
   "outputs": [
    {
     "data": {
      "text/plain": [
       "False"
      ]
     },
     "execution_count": 204,
     "metadata": {},
     "output_type": "execute_result"
    }
   ],
   "source": [
    "L is O # 'is' function checks whether both variables refer the same object"
   ]
  },
  {
   "cell_type": "code",
   "execution_count": 205,
   "metadata": {
    "colab": {
     "base_uri": "https://localhost:8080/"
    },
    "executionInfo": {
     "elapsed": 754,
     "status": "ok",
     "timestamp": 1726587627448,
     "user": {
      "displayName": "Hillary Jude",
      "userId": "17943637264411223929"
     },
     "user_tz": -330
    },
    "id": "ti0owb9an-st",
    "outputId": "b9725cbc-39e8-47f9-dafe-0981998c6377"
   },
   "outputs": [
    {
     "data": {
      "text/plain": [
       "False"
      ]
     },
     "execution_count": 205,
     "metadata": {},
     "output_type": "execute_result"
    }
   ],
   "source": [
    "id(L) == id(O) #L is O and id(L) == id(O) are same as stated bfore"
   ]
  },
  {
   "cell_type": "code",
   "execution_count": 206,
   "metadata": {
    "colab": {
     "base_uri": "https://localhost:8080/"
    },
    "executionInfo": {
     "elapsed": 560,
     "status": "ok",
     "timestamp": 1726587839029,
     "user": {
      "displayName": "Hillary Jude",
      "userId": "17943637264411223929"
     },
     "user_tz": -330
    },
    "id": "MCHcr7abpoXl",
    "outputId": "3b8e3f62-5e23-460d-a0ff-07b93bc3407f"
   },
   "outputs": [
    {
     "name": "stdout",
     "output_type": "stream",
     "text": [
      "[23, 444, 42]\n",
      "[23, 444, 42]\n"
     ]
    }
   ],
   "source": [
    "Y = [23,444,42]\n",
    "Z = Y.copy()\n",
    "print(Y)\n",
    "print(Z)"
   ]
  },
  {
   "cell_type": "code",
   "execution_count": 207,
   "metadata": {
    "colab": {
     "base_uri": "https://localhost:8080/"
    },
    "executionInfo": {
     "elapsed": 2,
     "status": "ok",
     "timestamp": 1726587851713,
     "user": {
      "displayName": "Hillary Jude",
      "userId": "17943637264411223929"
     },
     "user_tz": -330
    },
    "id": "mvTAqfMPpoUL",
    "outputId": "bcbfbed3-bce6-4d01-939a-d4ab0ce93822"
   },
   "outputs": [
    {
     "data": {
      "text/plain": [
       "False"
      ]
     },
     "execution_count": 207,
     "metadata": {},
     "output_type": "execute_result"
    }
   ],
   "source": [
    "Y is Z #bcos Z is creating a separate object with same values of Y."
   ]
  },
  {
   "cell_type": "markdown",
   "metadata": {
    "id": "MAIMIMlzqaaY"
   },
   "source": [
    "**List are mutable. Mutable - mutation. Contents inside lists can be changed.**"
   ]
  },
  {
   "cell_type": "markdown",
   "metadata": {
    "id": "K9KLdM_I-Pli"
   },
   "source": [
    "### NESTED LIST"
   ]
  },
  {
   "cell_type": "code",
   "execution_count": 208,
   "metadata": {
    "colab": {
     "base_uri": "https://localhost:8080/"
    },
    "executionInfo": {
     "elapsed": 548,
     "status": "ok",
     "timestamp": 1726593043385,
     "user": {
      "displayName": "Hillary Jude",
      "userId": "17943637264411223929"
     },
     "user_tz": -330
    },
    "id": "fsrFuoCDpoRs",
    "outputId": "1fcaa524-4204-4147-d80c-57607d5ca699"
   },
   "outputs": [
    {
     "name": "stdout",
     "output_type": "stream",
     "text": [
      "[[1, 2, 3], [4, 5, 6], [7, 8, 9]]\n"
     ]
    }
   ],
   "source": [
    "mat = [[1,2,3],\n",
    "       [4,5,6],  #list inside a list\n",
    "       [7,8,9]]\n",
    "print(mat)"
   ]
  },
  {
   "cell_type": "code",
   "execution_count": 209,
   "metadata": {
    "colab": {
     "base_uri": "https://localhost:8080/"
    },
    "executionInfo": {
     "elapsed": 622,
     "status": "ok",
     "timestamp": 1726593070387,
     "user": {
      "displayName": "Hillary Jude",
      "userId": "17943637264411223929"
     },
     "user_tz": -330
    },
    "id": "PxkyTh6R90od",
    "outputId": "d8079618-f74a-47cd-be6c-d47aeefaa1fd"
   },
   "outputs": [
    {
     "data": {
      "text/plain": [
       "[1, 2, 3]"
      ]
     },
     "execution_count": 209,
     "metadata": {},
     "output_type": "execute_result"
    }
   ],
   "source": [
    "mat[0]"
   ]
  },
  {
   "cell_type": "code",
   "execution_count": 210,
   "metadata": {
    "colab": {
     "base_uri": "https://localhost:8080/"
    },
    "executionInfo": {
     "elapsed": 634,
     "status": "ok",
     "timestamp": 1726593087183,
     "user": {
      "displayName": "Hillary Jude",
      "userId": "17943637264411223929"
     },
     "user_tz": -330
    },
    "id": "DKkDR-5q90lC",
    "outputId": "06fbc8a0-49e9-4b51-b8c7-107d80f4930b"
   },
   "outputs": [
    {
     "data": {
      "text/plain": [
       "2"
      ]
     },
     "execution_count": 210,
     "metadata": {},
     "output_type": "execute_result"
    }
   ],
   "source": [
    "mat[0][1]"
   ]
  },
  {
   "cell_type": "code",
   "execution_count": 211,
   "metadata": {
    "colab": {
     "base_uri": "https://localhost:8080/"
    },
    "executionInfo": {
     "elapsed": 744,
     "status": "ok",
     "timestamp": 1726593106868,
     "user": {
      "displayName": "Hillary Jude",
      "userId": "17943637264411223929"
     },
     "user_tz": -330
    },
    "id": "B_2n2ZQ490jJ",
    "outputId": "9fb5540a-57e0-4e97-d230-60025e5a7ebd"
   },
   "outputs": [
    {
     "data": {
      "text/plain": [
       "[5, 6]"
      ]
     },
     "execution_count": 211,
     "metadata": {},
     "output_type": "execute_result"
    }
   ],
   "source": [
    "mat[1][1:]"
   ]
  },
  {
   "cell_type": "code",
   "execution_count": 212,
   "metadata": {
    "colab": {
     "base_uri": "https://localhost:8080/"
    },
    "executionInfo": {
     "elapsed": 621,
     "status": "ok",
     "timestamp": 1726593265156,
     "user": {
      "displayName": "Hillary Jude",
      "userId": "17943637264411223929"
     },
     "user_tz": -330
    },
    "id": "ZQAgmkp69_3C",
    "outputId": "702edf04-93ab-48e4-e34c-8c28111d6004"
   },
   "outputs": [
    {
     "data": {
      "text/plain": [
       "[[1, 2, 3], [4, 5, 6], [7, 8, 9], [1, 2, 3], [4, 5, 6], [7, 8, 9]]"
      ]
     },
     "execution_count": 212,
     "metadata": {},
     "output_type": "execute_result"
    }
   ],
   "source": [
    "  mat * 2"
   ]
  },
  {
   "cell_type": "code",
   "execution_count": 213,
   "metadata": {
    "colab": {
     "base_uri": "https://localhost:8080/"
    },
    "executionInfo": {
     "elapsed": 521,
     "status": "ok",
     "timestamp": 1726593277411,
     "user": {
      "displayName": "Hillary Jude",
      "userId": "17943637264411223929"
     },
     "user_tz": -330
    },
    "id": "LgAwGdhq-oY3",
    "outputId": "9eee6ad0-8c5c-496b-b2d5-400ea8b5ee74"
   },
   "outputs": [
    {
     "data": {
      "text/plain": [
       "3"
      ]
     },
     "execution_count": 213,
     "metadata": {},
     "output_type": "execute_result"
    }
   ],
   "source": [
    "len(mat)"
   ]
  },
  {
   "cell_type": "code",
   "execution_count": 214,
   "metadata": {
    "colab": {
     "base_uri": "https://localhost:8080/"
    },
    "executionInfo": {
     "elapsed": 586,
     "status": "ok",
     "timestamp": 1726593288461,
     "user": {
      "displayName": "Hillary Jude",
      "userId": "17943637264411223929"
     },
     "user_tz": -330
    },
    "id": "f51Z8DVk-oVY",
    "outputId": "ea1be5de-d2a1-49a5-9eb7-0012b3309bad"
   },
   "outputs": [
    {
     "data": {
      "text/plain": [
       "6"
      ]
     },
     "execution_count": 214,
     "metadata": {},
     "output_type": "execute_result"
    }
   ],
   "source": [
    "len(mat*2)"
   ]
  },
  {
   "cell_type": "markdown",
   "metadata": {
    "id": "x0HhTALIILqH"
   },
   "source": [
    "### LIST COMPREHENSION"
   ]
  },
  {
   "cell_type": "markdown",
   "metadata": {
    "id": "NIWZrDV8IRMK"
   },
   "source": [
    "List comprehension offers a shorter syntax when you want to create a new list based on the values of an existing list."
   ]
  },
  {
   "cell_type": "code",
   "execution_count": 215,
   "metadata": {
    "colab": {
     "base_uri": "https://localhost:8080/"
    },
    "executionInfo": {
     "elapsed": 589,
     "status": "ok",
     "timestamp": 1726646213731,
     "user": {
      "displayName": "Hillary Jude",
      "userId": "17943637264411223929"
     },
     "user_tz": -330
    },
    "id": "FffIAgKG-oRx",
    "outputId": "fb96262e-b0c2-4f38-f0fd-c38454983e9f"
   },
   "outputs": [
    {
     "data": {
      "text/plain": [
       "[0, 2, 12, 36, 80, 150, 252, 392, 576, 810]"
      ]
     },
     "execution_count": 215,
     "metadata": {},
     "output_type": "execute_result"
    }
   ],
   "source": [
    "[(i**2 + i**3) for i in range (10)]"
   ]
  },
  {
   "cell_type": "code",
   "execution_count": 216,
   "metadata": {
    "colab": {
     "base_uri": "https://localhost:8080/"
    },
    "executionInfo": {
     "elapsed": 5,
     "status": "ok",
     "timestamp": 1726646264191,
     "user": {
      "displayName": "Hillary Jude",
      "userId": "17943637264411223929"
     },
     "user_tz": -330
    },
    "id": "G_Oxjzc1InFK",
    "outputId": "1815758d-d557-4abc-d64b-157a6d1d3d86"
   },
   "outputs": [
    {
     "data": {
      "text/plain": [
       "(2, 5, 8, 11)"
      ]
     },
     "execution_count": 216,
     "metadata": {},
     "output_type": "execute_result"
    }
   ],
   "source": [
    "tuple(i for i in range (2,12,3))"
   ]
  },
  {
   "cell_type": "code",
   "execution_count": 217,
   "metadata": {},
   "outputs": [
    {
     "data": {
      "text/plain": [
       "[2, 5, 8, 11]"
      ]
     },
     "execution_count": 217,
     "metadata": {},
     "output_type": "execute_result"
    }
   ],
   "source": [
    "[i for i in range (2,12,3)]"
   ]
  },
  {
   "cell_type": "code",
   "execution_count": 218,
   "metadata": {
    "colab": {
     "base_uri": "https://localhost:8080/"
    },
    "executionInfo": {
     "elapsed": 1542,
     "status": "ok",
     "timestamp": 1726757924964,
     "user": {
      "displayName": "Hillary Jude",
      "userId": "17943637264411223929"
     },
     "user_tz": -330
    },
    "id": "AwOZP3TPInCn",
    "outputId": "679c2535-b6a5-43f0-d287-a0e105f19452"
   },
   "outputs": [
    {
     "name": "stdout",
     "output_type": "stream",
     "text": [
      "[55, 12, 1, 66]\n"
     ]
    }
   ],
   "source": [
    "fruit = [55,12,1,66]\n",
    "new_fruit = [i for i in fruit]  #you cannot use range for a variable\n",
    "print(new_fruit)"
   ]
  },
  {
   "cell_type": "code",
   "execution_count": 219,
   "metadata": {
    "colab": {
     "base_uri": "https://localhost:8080/"
    },
    "executionInfo": {
     "elapsed": 622,
     "status": "ok",
     "timestamp": 1726758103742,
     "user": {
      "displayName": "Hillary Jude",
      "userId": "17943637264411223929"
     },
     "user_tz": -330
    },
    "id": "VlGmHVdBInAS",
    "outputId": "fcc506bf-fad8-4027-84ad-050b98bd36f8"
   },
   "outputs": [
    {
     "name": "stdout",
     "output_type": "stream",
     "text": [
      "[0, 1, 8, 9, 64, 25, 216, 49, 512, 81, 1000, 121, 1728, 169, 2744, 225, 4096, 289, 5832, 361] "
     ]
    }
   ],
   "source": [
    "peekaboo = [i**3 if i%2==0 else i**2 for i in range (20)]\n",
    "print(peekaboo, end = \" \")"
   ]
  },
  {
   "cell_type": "code",
   "execution_count": 220,
   "metadata": {
    "colab": {
     "base_uri": "https://localhost:8080/"
    },
    "executionInfo": {
     "elapsed": 509,
     "status": "ok",
     "timestamp": 1726758133340,
     "user": {
      "displayName": "Hillary Jude",
      "userId": "17943637264411223929"
     },
     "user_tz": -330
    },
    "id": "nUACMxgMIm-O",
    "outputId": "eebc71bf-30a7-42c1-cc2e-e4c7fb3f58c9"
   },
   "outputs": [
    {
     "data": {
      "text/plain": [
       "1"
      ]
     },
     "execution_count": 220,
     "metadata": {},
     "output_type": "execute_result"
    }
   ],
   "source": [
    "peekaboo.count(8)  #counts the number of 8s in that list"
   ]
  },
  {
   "cell_type": "code",
   "execution_count": 221,
   "metadata": {
    "colab": {
     "base_uri": "https://localhost:8080/"
    },
    "executionInfo": {
     "elapsed": 525,
     "status": "ok",
     "timestamp": 1726758149421,
     "user": {
      "displayName": "Hillary Jude",
      "userId": "17943637264411223929"
     },
     "user_tz": -330
    },
    "id": "qSaMxFl8ziu3",
    "outputId": "936fc21d-7259-4431-a2a0-cddb75b471bb"
   },
   "outputs": [
    {
     "data": {
      "text/plain": [
       "20"
      ]
     },
     "execution_count": 221,
     "metadata": {},
     "output_type": "execute_result"
    }
   ],
   "source": [
    "len(peekaboo) # len determines the number of elements in the list"
   ]
  },
  {
   "cell_type": "code",
   "execution_count": 222,
   "metadata": {
    "colab": {
     "base_uri": "https://localhost:8080/"
    },
    "executionInfo": {
     "elapsed": 459,
     "status": "ok",
     "timestamp": 1726758296346,
     "user": {
      "displayName": "Hillary Jude",
      "userId": "17943637264411223929"
     },
     "user_tz": -330
    },
    "id": "ql4AbzKqzirO",
    "outputId": "9817981f-c0de-41bd-a2e5-8ca8465c56c2"
   },
   "outputs": [
    {
     "name": "stdout",
     "output_type": "stream",
     "text": [
      "[0, 1, 8, 90, 64, 25, 216, 49, 512, 81, 1000, 121, 1728, 169, 2744, 225, 4096, 289, 5832, 361]\n"
     ]
    }
   ],
   "source": [
    "peekaboo[3] = 90\n",
    "print(peekaboo)"
   ]
  },
  {
   "cell_type": "code",
   "execution_count": 223,
   "metadata": {
    "colab": {
     "base_uri": "https://localhost:8080/"
    },
    "executionInfo": {
     "elapsed": 448,
     "status": "ok",
     "timestamp": 1726758371730,
     "user": {
      "displayName": "Hillary Jude",
      "userId": "17943637264411223929"
     },
     "user_tz": -330
    },
    "id": "T6dpwhwKzioa",
    "outputId": "c36761c6-93ce-4f36-bd54-cfd395327e44"
   },
   "outputs": [
    {
     "name": "stdout",
     "output_type": "stream",
     "text": [
      "[0, 2, 4, 6, 8, 25, 216, 49, 512, 81, 1000, 121, 1728, 169, 2744, 225, 4096, 289, 5832, 361]\n"
     ]
    }
   ],
   "source": [
    "peekaboo[1:5] = [2,4,6,8]\n",
    "print(peekaboo)"
   ]
  },
  {
   "cell_type": "code",
   "execution_count": 224,
   "metadata": {
    "colab": {
     "base_uri": "https://localhost:8080/",
     "height": 158
    },
    "executionInfo": {
     "elapsed": 533,
     "status": "error",
     "timestamp": 1726826275608,
     "user": {
      "displayName": "Hillary Jude",
      "userId": "17943637264411223929"
     },
     "user_tz": -330
    },
    "id": "3BxueRp43MiU",
    "outputId": "30c8bc67-8f8a-4d74-a5eb-f11596ae1664"
   },
   "outputs": [
    {
     "name": "stdout",
     "output_type": "stream",
     "text": [
      "[0, 2, 4, 6, 8, 2, 10, 1000, 121, 1728, 169, 2744, 225, 4096, 289, 5832, 361]\n"
     ]
    }
   ],
   "source": [
    "peekaboo[5:10] = [2,10]\n",
    "print(peekaboo)"
   ]
  },
  {
   "cell_type": "code",
   "execution_count": 225,
   "metadata": {
    "colab": {
     "base_uri": "https://localhost:8080/"
    },
    "executionInfo": {
     "elapsed": 6,
     "status": "ok",
     "timestamp": 1726826527197,
     "user": {
      "displayName": "Hillary Jude",
      "userId": "17943637264411223929"
     },
     "user_tz": -330
    },
    "id": "Kw4t2N_y3MfQ",
    "outputId": "d95f4480-fd27-4406-86e5-d23351a0c975"
   },
   "outputs": [
    {
     "name": "stdout",
     "output_type": "stream",
     "text": [
      "9\n",
      "[1, 2, 10, 12, 6, 7, 8, 6]\n",
      "8\n"
     ]
    }
   ],
   "source": [
    "chamuli = [1,2,3,4,5,6,7,8,6]\n",
    "print(len(chamuli))\n",
    "chamuli[2:5] = [10,12]\n",
    "print(chamuli)\n",
    "print(len(chamuli))"
   ]
  },
  {
   "cell_type": "code",
   "execution_count": 226,
   "metadata": {
    "colab": {
     "base_uri": "https://localhost:8080/"
    },
    "executionInfo": {
     "elapsed": 808,
     "status": "ok",
     "timestamp": 1726826713038,
     "user": {
      "displayName": "Hillary Jude",
      "userId": "17943637264411223929"
     },
     "user_tz": -330
    },
    "id": "7H83qi1k3Maz",
    "outputId": "66c8262b-000b-4b0f-ec21-7c690081f9d7"
   },
   "outputs": [
    {
     "data": {
      "text/plain": [
       "False"
      ]
     },
     "execution_count": 226,
     "metadata": {},
     "output_type": "execute_result"
    }
   ],
   "source": [
    "4 in chamuli"
   ]
  },
  {
   "cell_type": "code",
   "execution_count": 227,
   "metadata": {
    "colab": {
     "base_uri": "https://localhost:8080/"
    },
    "executionInfo": {
     "elapsed": 469,
     "status": "ok",
     "timestamp": 1726826727877,
     "user": {
      "displayName": "Hillary Jude",
      "userId": "17943637264411223929"
     },
     "user_tz": -330
    },
    "id": "oEN4zWfZ3MX6",
    "outputId": "a262d8d7-da6d-446d-90e6-60d74b55caa1"
   },
   "outputs": [
    {
     "data": {
      "text/plain": [
       "True"
      ]
     },
     "execution_count": 227,
     "metadata": {},
     "output_type": "execute_result"
    }
   ],
   "source": [
    "12 in chamuli"
   ]
  },
  {
   "cell_type": "code",
   "execution_count": 228,
   "metadata": {
    "colab": {
     "base_uri": "https://localhost:8080/"
    },
    "executionInfo": {
     "elapsed": 523,
     "status": "ok",
     "timestamp": 1726843365526,
     "user": {
      "displayName": "Hillary Jude",
      "userId": "17943637264411223929"
     },
     "user_tz": -330
    },
    "id": "Vp2dj7gp3MQ0",
    "outputId": "7f861a6d-13e5-45d5-86ff-acc28a6c049f"
   },
   "outputs": [
    {
     "name": "stdout",
     "output_type": "stream",
     "text": [
      "[1, 2, 3]\n"
     ]
    }
   ],
   "source": [
    "look = [[1,2,3],[4,5,6],[7,8,9]]\n",
    "print(look[0])"
   ]
  },
  {
   "cell_type": "code",
   "execution_count": 229,
   "metadata": {
    "colab": {
     "base_uri": "https://localhost:8080/"
    },
    "executionInfo": {
     "elapsed": 625,
     "status": "ok",
     "timestamp": 1726842618543,
     "user": {
      "displayName": "Hillary Jude",
      "userId": "17943637264411223929"
     },
     "user_tz": -330
    },
    "id": "K4RA99V21sMd",
    "outputId": "cc329e47-056f-4e15-84b0-9f039b16061a"
   },
   "outputs": [
    {
     "data": {
      "text/plain": [
       "True"
      ]
     },
     "execution_count": 229,
     "metadata": {},
     "output_type": "execute_result"
    }
   ],
   "source": [
    "[4,5,6] in look #there are only 3 elements in the look"
   ]
  },
  {
   "cell_type": "code",
   "execution_count": 230,
   "metadata": {
    "colab": {
     "base_uri": "https://localhost:8080/"
    },
    "executionInfo": {
     "elapsed": 9,
     "status": "ok",
     "timestamp": 1726842628401,
     "user": {
      "displayName": "Hillary Jude",
      "userId": "17943637264411223929"
     },
     "user_tz": -330
    },
    "id": "Cnjve-H31sKK",
    "outputId": "1c36a98b-f1a7-4817-a8f5-95f7b8811b65"
   },
   "outputs": [
    {
     "data": {
      "text/plain": [
       "False"
      ]
     },
     "execution_count": 230,
     "metadata": {},
     "output_type": "execute_result"
    }
   ],
   "source": [
    "4 in look #4 is not an element in the look, it is an element inside another list"
   ]
  },
  {
   "cell_type": "code",
   "execution_count": 231,
   "metadata": {
    "colab": {
     "base_uri": "https://localhost:8080/"
    },
    "executionInfo": {
     "elapsed": 520,
     "status": "ok",
     "timestamp": 1726843341144,
     "user": {
      "displayName": "Hillary Jude",
      "userId": "17943637264411223929"
     },
     "user_tz": -330
    },
    "id": "RqeXMMCV1sID",
    "outputId": "f302c204-06be-4448-cbc5-fe53e7aef1c1"
   },
   "outputs": [
    {
     "name": "stdout",
     "output_type": "stream",
     "text": [
      "[[1, 2, 3], [4, 5, 6], [7, 8, 9], [1, 2, 3]]\n"
     ]
    }
   ],
   "source": [
    "look.append([1,2,3])\n",
    "print(look)"
   ]
  },
  {
   "cell_type": "code",
   "execution_count": 232,
   "metadata": {
    "colab": {
     "base_uri": "https://localhost:8080/"
    },
    "executionInfo": {
     "elapsed": 628,
     "status": "ok",
     "timestamp": 1726843395943,
     "user": {
      "displayName": "Hillary Jude",
      "userId": "17943637264411223929"
     },
     "user_tz": -330
    },
    "id": "2qJ6FMGb4Yx6",
    "outputId": "fbb29bd8-4556-4485-b08c-0973953a0275"
   },
   "outputs": [
    {
     "name": "stdout",
     "output_type": "stream",
     "text": [
      "[[1, 2, 3], [4, 5, 6], [7, 8, 9], [1, 2, 3], 10, 20, 30]\n"
     ]
    }
   ],
   "source": [
    "look.extend([10,20,30])\n",
    "print(look)"
   ]
  },
  {
   "cell_type": "markdown",
   "metadata": {
    "id": "_oGcy_Qr6UPL"
   },
   "source": [
    "Extend the list is similar to adding or concatenating two lists. **Extend will unlist** and join the elements."
   ]
  },
  {
   "cell_type": "code",
   "execution_count": 233,
   "metadata": {
    "colab": {
     "base_uri": "https://localhost:8080/"
    },
    "executionInfo": {
     "elapsed": 515,
     "status": "ok",
     "timestamp": 1726843768169,
     "user": {
      "displayName": "Hillary Jude",
      "userId": "17943637264411223929"
     },
     "user_tz": -330
    },
    "id": "hgTScyGH6D2c",
    "outputId": "5798ae1f-e929-4df4-9d60-dda43e5d564b"
   },
   "outputs": [
    {
     "name": "stdout",
     "output_type": "stream",
     "text": [
      "[1, 2, 3, 2, 4, 6]\n"
     ]
    }
   ],
   "source": [
    "g = [1,2,3]\n",
    "g.extend([2,4,6])\n",
    "print(g)"
   ]
  },
  {
   "cell_type": "code",
   "execution_count": 234,
   "metadata": {
    "colab": {
     "base_uri": "https://localhost:8080/"
    },
    "executionInfo": {
     "elapsed": 10,
     "status": "ok",
     "timestamp": 1726843792388,
     "user": {
      "displayName": "Hillary Jude",
      "userId": "17943637264411223929"
     },
     "user_tz": -330
    },
    "id": "tdh7Hlgy6D0I",
    "outputId": "a0a13597-8d36-4e9e-985c-ac2f8ad8416e"
   },
   "outputs": [
    {
     "data": {
      "text/plain": [
       "[1, 2, 3, 2, 4, 6]"
      ]
     },
     "execution_count": 234,
     "metadata": {},
     "output_type": "execute_result"
    }
   ],
   "source": [
    "[1,2,3] + [2,4,6]"
   ]
  },
  {
   "cell_type": "markdown",
   "metadata": {
    "id": "f5N9ux7r6kks"
   },
   "source": [
    "Append joins the elements as it is to the list"
   ]
  },
  {
   "cell_type": "code",
   "execution_count": 235,
   "metadata": {
    "colab": {
     "base_uri": "https://localhost:8080/"
    },
    "executionInfo": {
     "elapsed": 15,
     "status": "ok",
     "timestamp": 1726843859143,
     "user": {
      "displayName": "Hillary Jude",
      "userId": "17943637264411223929"
     },
     "user_tz": -330
    },
    "id": "bydDEg9X6Dxw",
    "outputId": "dbf87390-1006-4108-d59c-438bbca8c583"
   },
   "outputs": [
    {
     "name": "stdout",
     "output_type": "stream",
     "text": [
      "[1, 2, 3, 2, 4, 6, [50, 66]]\n"
     ]
    }
   ],
   "source": [
    "g.append([50,66])\n",
    "print(g)"
   ]
  },
  {
   "cell_type": "code",
   "execution_count": 236,
   "metadata": {
    "colab": {
     "base_uri": "https://localhost:8080/"
    },
    "executionInfo": {
     "elapsed": 522,
     "status": "ok",
     "timestamp": 1726844000187,
     "user": {
      "displayName": "Hillary Jude",
      "userId": "17943637264411223929"
     },
     "user_tz": -330
    },
    "id": "IUbKi8hV61u8",
    "outputId": "c24a8503-7f81-4bdb-e65b-327a5f8b7cfe"
   },
   "outputs": [
    {
     "name": "stdout",
     "output_type": "stream",
     "text": [
      "[1, 2, 3, 2, [99, 7, 3], 4, 6, [50, 66]]\n"
     ]
    }
   ],
   "source": [
    "g.insert(4,[99,7,3]) #inserting elements in the desired position\n",
    "print(g)\n"
   ]
  },
  {
   "cell_type": "markdown",
   "metadata": {
    "id": "m5HfQy1m7SeY"
   },
   "source": [
    "## TUPLES"
   ]
  },
  {
   "cell_type": "markdown",
   "metadata": {
    "id": "aLCGaIGK7k7f"
   },
   "source": [
    "Tuples is similar to list. List is created using [], Tuple created using(). comma is mandatory for tuples"
   ]
  },
  {
   "cell_type": "code",
   "execution_count": 237,
   "metadata": {
    "colab": {
     "base_uri": "https://localhost:8080/"
    },
    "executionInfo": {
     "elapsed": 630,
     "status": "ok",
     "timestamp": 1726844490771,
     "user": {
      "displayName": "Hillary Jude",
      "userId": "17943637264411223929"
     },
     "user_tz": -330
    },
    "id": "xK2VuHwG61sl",
    "outputId": "182dbe39-2e04-48ee-fd5a-df99d9846c92"
   },
   "outputs": [
    {
     "name": "stdout",
     "output_type": "stream",
     "text": [
      "<class 'tuple'>\n"
     ]
    }
   ],
   "source": [
    "scores =  (2,3,4,5,6)\n",
    "print(type(scores))"
   ]
  },
  {
   "cell_type": "code",
   "execution_count": 238,
   "metadata": {
    "colab": {
     "base_uri": "https://localhost:8080/"
    },
    "executionInfo": {
     "elapsed": 623,
     "status": "ok",
     "timestamp": 1726844560398,
     "user": {
      "displayName": "Hillary Jude",
      "userId": "17943637264411223929"
     },
     "user_tz": -330
    },
    "id": "vv6DzEyJ61qj",
    "outputId": "c470bf54-9505-47d8-a0f7-b050ec5a42c6"
   },
   "outputs": [
    {
     "data": {
      "text/plain": [
       "(4, 5)"
      ]
     },
     "execution_count": 238,
     "metadata": {},
     "output_type": "execute_result"
    }
   ],
   "source": [
    "scores[2:4]"
   ]
  },
  {
   "cell_type": "markdown",
   "metadata": {
    "id": "7-YdHA_R9UCW"
   },
   "source": [
    "Tuples are immutable, which makes them memory efficient and faster than list. Tuple has only 2 functions -> count and index"
   ]
  },
  {
   "cell_type": "code",
   "execution_count": 239,
   "metadata": {
    "colab": {
     "base_uri": "https://localhost:8080/"
    },
    "executionInfo": {
     "elapsed": 618,
     "status": "ok",
     "timestamp": 1726844834521,
     "user": {
      "displayName": "Hillary Jude",
      "userId": "17943637264411223929"
     },
     "user_tz": -330
    },
    "id": "aRu_hiXZ61oV",
    "outputId": "f5dcf905-9be5-4f45-ede2-2b5ece7fbdb3"
   },
   "outputs": [
    {
     "data": {
      "text/plain": [
       "1"
      ]
     },
     "execution_count": 239,
     "metadata": {},
     "output_type": "execute_result"
    }
   ],
   "source": [
    "scores.count(4)\n"
   ]
  },
  {
   "cell_type": "code",
   "execution_count": 240,
   "metadata": {
    "colab": {
     "base_uri": "https://localhost:8080/"
    },
    "executionInfo": {
     "elapsed": 509,
     "status": "ok",
     "timestamp": 1726844856013,
     "user": {
      "displayName": "Hillary Jude",
      "userId": "17943637264411223929"
     },
     "user_tz": -330
    },
    "id": "ggs9Q4TM-TcG",
    "outputId": "16bb7b61-0dfb-4870-9924-7d82e0d1a4d1"
   },
   "outputs": [
    {
     "data": {
      "text/plain": [
       "2"
      ]
     },
     "execution_count": 240,
     "metadata": {},
     "output_type": "execute_result"
    }
   ],
   "source": [
    "scores.index(4)"
   ]
  },
  {
   "cell_type": "code",
   "execution_count": 241,
   "metadata": {
    "id": "1EtNjW3E-q8w"
   },
   "outputs": [],
   "source": [
    "def loo(a,b):  #define function takes the input, combines them into a single object and returns them in a tuple\n",
    "  return a+b, a-b, a*b"
   ]
  },
  {
   "cell_type": "code",
   "execution_count": 242,
   "metadata": {
    "colab": {
     "base_uri": "https://localhost:8080/"
    },
    "executionInfo": {
     "elapsed": 620,
     "status": "ok",
     "timestamp": 1726844987179,
     "user": {
      "displayName": "Hillary Jude",
      "userId": "17943637264411223929"
     },
     "user_tz": -330
    },
    "id": "YTHZHBsv-q5b",
    "outputId": "f80e9386-80a8-47ee-a131-80b95e8fde49"
   },
   "outputs": [
    {
     "data": {
      "text/plain": [
       "(9, -1, 20)"
      ]
     },
     "execution_count": 242,
     "metadata": {},
     "output_type": "execute_result"
    }
   ],
   "source": [
    "loo(4,5)"
   ]
  },
  {
   "cell_type": "code",
   "execution_count": 243,
   "metadata": {
    "id": "Fu31hKpQ-qwt"
   },
   "outputs": [],
   "source": [
    "#tuples are used in define function in order to avoid mistakes in the assigned values"
   ]
  },
  {
   "cell_type": "code",
   "execution_count": 244,
   "metadata": {
    "id": "p7luwUyk-qta"
   },
   "outputs": [],
   "source": [
    "#tuples are immutable, but we can change the data and assign the same variable. This creates the variable with new reference. The older\n",
    "# data gets lost. But the older data values are immutable."
   ]
  },
  {
   "cell_type": "code",
   "execution_count": 245,
   "metadata": {
    "colab": {
     "base_uri": "https://localhost:8080/"
    },
    "executionInfo": {
     "elapsed": 704,
     "status": "ok",
     "timestamp": 1726845731819,
     "user": {
      "displayName": "Hillary Jude",
      "userId": "17943637264411223929"
     },
     "user_tz": -330
    },
    "id": "prlPFJNOBlBM",
    "outputId": "a964feef-ba15-4e78-9d46-3df066d89bde"
   },
   "outputs": [
    {
     "name": "stdout",
     "output_type": "stream",
     "text": [
      "(2, 3, 4, 5, 6)\n"
     ]
    }
   ],
   "source": [
    "i = (2,3,4,5,6)\n",
    "print(i)"
   ]
  },
  {
   "cell_type": "code",
   "execution_count": 246,
   "metadata": {
    "colab": {
     "base_uri": "https://localhost:8080/"
    },
    "executionInfo": {
     "elapsed": 617,
     "status": "ok",
     "timestamp": 1726845755565,
     "user": {
      "displayName": "Hillary Jude",
      "userId": "17943637264411223929"
     },
     "user_tz": -330
    },
    "id": "DFFqyblfBk9l",
    "outputId": "43c99df7-f179-41ce-bac9-a91891cc48e7"
   },
   "outputs": [
    {
     "name": "stdout",
     "output_type": "stream",
     "text": [
      "(23, 33)\n"
     ]
    }
   ],
   "source": [
    "i = (23,33)\n",
    "print(i)"
   ]
  },
  {
   "cell_type": "code",
   "execution_count": 247,
   "metadata": {
    "id": "v2lh4wdJBkso"
   },
   "outputs": [],
   "source": [
    "# New data is created and this data is assigned to the existing variable."
   ]
  },
  {
   "cell_type": "code",
   "execution_count": 248,
   "metadata": {
    "colab": {
     "base_uri": "https://localhost:8080/"
    },
    "executionInfo": {
     "elapsed": 8,
     "status": "ok",
     "timestamp": 1726846000111,
     "user": {
      "displayName": "Hillary Jude",
      "userId": "17943637264411223929"
     },
     "user_tz": -330
    },
    "id": "yTcIIOHHCduU",
    "outputId": "ab49de0a-853c-4719-9f47-3cd57a10c118"
   },
   "outputs": [
    {
     "name": "stdout",
     "output_type": "stream",
     "text": [
      "140712970098168\n",
      "140712970098232\n"
     ]
    }
   ],
   "source": [
    "# Integers are mutable or immutable?\n",
    "a = 99\n",
    "print(id(a))\n",
    "\n",
    "a += 2\n",
    "print(id(a))  #Integers are immutable, new value is created with newer object or ID"
   ]
  },
  {
   "cell_type": "code",
   "execution_count": 249,
   "metadata": {
    "id": "QqtzIvOJCdq0"
   },
   "outputs": [],
   "source": [
    "#only list, sets and dictionaries are mutable. Rest are immutable"
   ]
  },
  {
   "cell_type": "markdown",
   "metadata": {
    "id": "-agkR0ZSK7fJ"
   },
   "source": [
    "Comma is mandatory for a tuple, not even parathesis."
   ]
  },
  {
   "cell_type": "code",
   "execution_count": 250,
   "metadata": {
    "colab": {
     "base_uri": "https://localhost:8080/"
    },
    "executionInfo": {
     "elapsed": 4,
     "status": "ok",
     "timestamp": 1726848205076,
     "user": {
      "displayName": "Hillary Jude",
      "userId": "17943637264411223929"
     },
     "user_tz": -330
    },
    "id": "p4SOdoNXCdli",
    "outputId": "3579112b-8522-4e7b-bb78-a90da7e0568e"
   },
   "outputs": [
    {
     "name": "stdout",
     "output_type": "stream",
     "text": [
      "<class 'list'>\n",
      "<class 'int'>\n",
      "<class 'tuple'>\n"
     ]
    }
   ],
   "source": [
    "a = [2]\n",
    "print(type(a))\n",
    "\n",
    "b = 2\n",
    "print(type(b))\n",
    "\n",
    "c = 2,\n",
    "print(type(c)) #to create a tuple you need comma."
   ]
  },
  {
   "cell_type": "markdown",
   "metadata": {
    "id": "rqebWK0jNeMN"
   },
   "source": [
    "Tuples don't allow you to change, add, or remove elements. This is what makes them different from lists."
   ]
  },
  {
   "cell_type": "code",
   "execution_count": 251,
   "metadata": {
    "colab": {
     "base_uri": "https://localhost:8080/",
     "height": 158
    },
    "executionInfo": {
     "elapsed": 502,
     "status": "error",
     "timestamp": 1726848553644,
     "user": {
      "displayName": "Hillary Jude",
      "userId": "17943637264411223929"
     },
     "user_tz": -330
    },
    "id": "GjGthIV_CdiL",
    "outputId": "7c6dbe1a-9056-4659-e10e-da5ecc4b5200"
   },
   "outputs": [],
   "source": [
    "# tup = (1,2,4,'4')\n",
    "# tup[2:] = (1,2)"
   ]
  },
  {
   "cell_type": "markdown",
   "metadata": {
    "id": "bdu-yBXAiikQ"
   },
   "source": [
    "## STRINGS"
   ]
  },
  {
   "cell_type": "code",
   "execution_count": 252,
   "metadata": {
    "colab": {
     "base_uri": "https://localhost:8080/"
    },
    "executionInfo": {
     "elapsed": 627,
     "status": "ok",
     "timestamp": 1726854415278,
     "user": {
      "displayName": "Hillary Jude",
      "userId": "17943637264411223929"
     },
     "user_tz": -330
    },
    "id": "ZycrdfYwCdfv",
    "outputId": "f20ee0a4-3c1b-4cf3-a66b-64cccd21908c"
   },
   "outputs": [
    {
     "name": "stdout",
     "output_type": "stream",
     "text": [
      "<class 'str'>\n"
     ]
    }
   ],
   "source": [
    "#strings behave more like lists. String takes every letter as a separate element\n",
    "arms = \"you look great today\"\n",
    "print(type(arms))"
   ]
  },
  {
   "cell_type": "code",
   "execution_count": 253,
   "metadata": {
    "colab": {
     "base_uri": "https://localhost:8080/",
     "height": 36
    },
    "executionInfo": {
     "elapsed": 624,
     "status": "ok",
     "timestamp": 1726854480501,
     "user": {
      "displayName": "Hillary Jude",
      "userId": "17943637264411223929"
     },
     "user_tz": -330
    },
    "id": "kWIV2DECcT89",
    "outputId": "6d34091b-c7ee-4fc6-d808-73d5e1b85edc"
   },
   "outputs": [
    {
     "data": {
      "text/plain": [
       "'ook '"
      ]
     },
     "execution_count": 253,
     "metadata": {},
     "output_type": "execute_result"
    }
   ],
   "source": [
    "arms[5:9]"
   ]
  },
  {
   "cell_type": "code",
   "execution_count": 254,
   "metadata": {
    "colab": {
     "base_uri": "https://localhost:8080/",
     "height": 36
    },
    "executionInfo": {
     "elapsed": 623,
     "status": "ok",
     "timestamp": 1726854596316,
     "user": {
      "displayName": "Hillary Jude",
      "userId": "17943637264411223929"
     },
     "user_tz": -330
    },
    "id": "VpaG9Jc0jGz5",
    "outputId": "2988b25f-f034-4d1a-dd9d-60b32affc053"
   },
   "outputs": [
    {
     "data": {
      "text/plain": [
       "'yadot taerg kool uoy'"
      ]
     },
     "execution_count": 254,
     "metadata": {},
     "output_type": "execute_result"
    }
   ],
   "source": [
    "arms[-1:-len(arms)-1:-1]  #reversing the entire string"
   ]
  },
  {
   "cell_type": "code",
   "execution_count": 255,
   "metadata": {
    "colab": {
     "base_uri": "https://localhost:8080/",
     "height": 36
    },
    "executionInfo": {
     "elapsed": 629,
     "status": "ok",
     "timestamp": 1726854721553,
     "user": {
      "displayName": "Hillary Jude",
      "userId": "17943637264411223929"
     },
     "user_tz": -330
    },
    "id": "udYbYGlsNfQC",
    "outputId": "04e92020-669b-417d-9f69-5d6af89330c8"
   },
   "outputs": [
    {
     "data": {
      "text/plain": [
       "'yadot taerg kool uoy'"
      ]
     },
     "execution_count": 255,
     "metadata": {},
     "output_type": "execute_result"
    }
   ],
   "source": [
    "arms[-1::-1]"
   ]
  },
  {
   "cell_type": "markdown",
   "metadata": {
    "id": "ryV_bw9-lDfh"
   },
   "source": [
    "**Strings are also immutable**\n"
   ]
  },
  {
   "cell_type": "code",
   "execution_count": 256,
   "metadata": {
    "colab": {
     "base_uri": "https://localhost:8080/",
     "height": 141
    },
    "executionInfo": {
     "elapsed": 785,
     "status": "error",
     "timestamp": 1726855047433,
     "user": {
      "displayName": "Hillary Jude",
      "userId": "17943637264411223929"
     },
     "user_tz": -330
    },
    "id": "6uPl2OH-lJtz",
    "outputId": "300a8777-d75e-4fd0-cf8e-25fc543b6107"
   },
   "outputs": [],
   "source": [
    "# arms[2] = \"h\""
   ]
  },
  {
   "cell_type": "code",
   "execution_count": 257,
   "metadata": {
    "colab": {
     "base_uri": "https://localhost:8080/"
    },
    "executionInfo": {
     "elapsed": 614,
     "status": "ok",
     "timestamp": 1726855132258,
     "user": {
      "displayName": "Hillary Jude",
      "userId": "17943637264411223929"
     },
     "user_tz": -330
    },
    "id": "m1cLlpzHlQIk",
    "outputId": "7ba7fc84-2374-4105-8bc4-1af9fd66a840"
   },
   "outputs": [
    {
     "data": {
      "text/plain": [
       "2411611814192"
      ]
     },
     "execution_count": 257,
     "metadata": {},
     "output_type": "execute_result"
    }
   ],
   "source": [
    "id(arms)"
   ]
  },
  {
   "cell_type": "code",
   "execution_count": 258,
   "metadata": {
    "colab": {
     "base_uri": "https://localhost:8080/"
    },
    "executionInfo": {
     "elapsed": 4,
     "status": "ok",
     "timestamp": 1726855159077,
     "user": {
      "displayName": "Hillary Jude",
      "userId": "17943637264411223929"
     },
     "user_tz": -330
    },
    "id": "FT3_RDCKlZs0",
    "outputId": "01061662-8588-47b0-e8f7-0735c4a7a074"
   },
   "outputs": [
    {
     "data": {
      "text/plain": [
       "2411611320240"
      ]
     },
     "execution_count": 258,
     "metadata": {},
     "output_type": "execute_result"
    }
   ],
   "source": [
    "arms += \"oh oh\"\n",
    "id(arms)"
   ]
  },
  {
   "cell_type": "code",
   "execution_count": 259,
   "metadata": {
    "colab": {
     "base_uri": "https://localhost:8080/"
    },
    "executionInfo": {
     "elapsed": 4,
     "status": "ok",
     "timestamp": 1726855168815,
     "user": {
      "displayName": "Hillary Jude",
      "userId": "17943637264411223929"
     },
     "user_tz": -330
    },
    "id": "exAvQ_sqlZwt",
    "outputId": "e3d10d95-42cc-4525-8d0f-3e9dad9165c1"
   },
   "outputs": [
    {
     "name": "stdout",
     "output_type": "stream",
     "text": [
      "you look great todayoh oh\n"
     ]
    }
   ],
   "source": [
    "print(arms) #new expression is created in a new location"
   ]
  },
  {
   "cell_type": "code",
   "execution_count": 260,
   "metadata": {
    "id": "ON3vhc7-lZ0b"
   },
   "outputs": [],
   "source": [
    "#space is also considered as a character"
   ]
  },
  {
   "cell_type": "code",
   "execution_count": 261,
   "metadata": {
    "colab": {
     "base_uri": "https://localhost:8080/"
    },
    "executionInfo": {
     "elapsed": 624,
     "status": "ok",
     "timestamp": 1726855409035,
     "user": {
      "displayName": "Hillary Jude",
      "userId": "17943637264411223929"
     },
     "user_tz": -330
    },
    "id": "42GE_q-vlZ3n",
    "outputId": "09182c38-c3cc-442c-f6f2-a5f3ae84efb0"
   },
   "outputs": [
    {
     "data": {
      "text/plain": [
       "2"
      ]
     },
     "execution_count": 261,
     "metadata": {},
     "output_type": "execute_result"
    }
   ],
   "source": [
    "arms.index('u')"
   ]
  },
  {
   "cell_type": "code",
   "execution_count": 262,
   "metadata": {
    "colab": {
     "base_uri": "https://localhost:8080/",
     "height": 36
    },
    "executionInfo": {
     "elapsed": 624,
     "status": "ok",
     "timestamp": 1726855417022,
     "user": {
      "displayName": "Hillary Jude",
      "userId": "17943637264411223929"
     },
     "user_tz": -330
    },
    "id": "VekjyAn8lTVR",
    "outputId": "ff71aba9-fc2b-4fe0-bdaf-4731e24ba117"
   },
   "outputs": [
    {
     "data": {
      "text/plain": [
       "'u'"
      ]
     },
     "execution_count": 262,
     "metadata": {},
     "output_type": "execute_result"
    }
   ],
   "source": [
    "arms[2]"
   ]
  },
  {
   "cell_type": "code",
   "execution_count": 263,
   "metadata": {
    "colab": {
     "base_uri": "https://localhost:8080/"
    },
    "executionInfo": {
     "elapsed": 649,
     "status": "ok",
     "timestamp": 1726855555691,
     "user": {
      "displayName": "Hillary Jude",
      "userId": "17943637264411223929"
     },
     "user_tz": -330
    },
    "id": "etL1zOpPlRf5",
    "outputId": "3077db69-066d-4603-f797-3b9158cedb83"
   },
   "outputs": [
    {
     "data": {
      "text/plain": [
       "1"
      ]
     },
     "execution_count": 263,
     "metadata": {},
     "output_type": "execute_result"
    }
   ],
   "source": [
    "arms.find('o')"
   ]
  },
  {
   "cell_type": "code",
   "execution_count": 264,
   "metadata": {
    "colab": {
     "base_uri": "https://localhost:8080/",
     "height": 36
    },
    "executionInfo": {
     "elapsed": 554,
     "status": "ok",
     "timestamp": 1726855728544,
     "user": {
      "displayName": "Hillary Jude",
      "userId": "17943637264411223929"
     },
     "user_tz": -330
    },
    "id": "E9azr8BfnxOo",
    "outputId": "93e67696-56fc-41b8-ec97-8a85bc52768c"
   },
   "outputs": [
    {
     "data": {
      "text/plain": [
       "'YOU LOOK GREAT TODAYOH OH'"
      ]
     },
     "execution_count": 264,
     "metadata": {},
     "output_type": "execute_result"
    }
   ],
   "source": [
    "arms.upper()"
   ]
  },
  {
   "cell_type": "code",
   "execution_count": 265,
   "metadata": {
    "colab": {
     "base_uri": "https://localhost:8080/",
     "height": 36
    },
    "executionInfo": {
     "elapsed": 580,
     "status": "ok",
     "timestamp": 1726855785342,
     "user": {
      "displayName": "Hillary Jude",
      "userId": "17943637264411223929"
     },
     "user_tz": -330
    },
    "id": "YijUiRdanxZd",
    "outputId": "1bdaf386-4542-4e52-9a5d-aefa65e85c71"
   },
   "outputs": [
    {
     "data": {
      "text/plain": [
       "'You Look Great Todayoh Oh'"
      ]
     },
     "execution_count": 265,
     "metadata": {},
     "output_type": "execute_result"
    }
   ],
   "source": [
    "arms.title()"
   ]
  },
  {
   "cell_type": "code",
   "execution_count": 266,
   "metadata": {
    "colab": {
     "base_uri": "https://localhost:8080/"
    },
    "executionInfo": {
     "elapsed": 525,
     "status": "ok",
     "timestamp": 1726856020171,
     "user": {
      "displayName": "Hillary Jude",
      "userId": "17943637264411223929"
     },
     "user_tz": -330
    },
    "id": "yg726VyJos9M",
    "outputId": "d8ed72c9-7b09-4171-e473-d7b1d5fa66e4"
   },
   "outputs": [
    {
     "name": "stdout",
     "output_type": "stream",
     "text": [
      "you look great todayoh oh\n"
     ]
    },
    {
     "data": {
      "text/plain": [
       "True"
      ]
     },
     "execution_count": 266,
     "metadata": {},
     "output_type": "execute_result"
    }
   ],
   "source": [
    "print(arms)\n",
    "arms.startswith('y')"
   ]
  },
  {
   "cell_type": "code",
   "execution_count": 267,
   "metadata": {
    "colab": {
     "base_uri": "https://localhost:8080/"
    },
    "executionInfo": {
     "elapsed": 640,
     "status": "ok",
     "timestamp": 1726856085586,
     "user": {
      "displayName": "Hillary Jude",
      "userId": "17943637264411223929"
     },
     "user_tz": -330
    },
    "id": "RQcoHYaZotFt",
    "outputId": "6b613112-e0e6-488a-d9ac-9beff35ec043"
   },
   "outputs": [
    {
     "data": {
      "text/plain": [
       "True"
      ]
     },
     "execution_count": 267,
     "metadata": {},
     "output_type": "execute_result"
    }
   ],
   "source": [
    "arms.startswith(\"you\") #this function is used in URL"
   ]
  },
  {
   "cell_type": "code",
   "execution_count": 268,
   "metadata": {
    "colab": {
     "base_uri": "https://localhost:8080/"
    },
    "executionInfo": {
     "elapsed": 593,
     "status": "ok",
     "timestamp": 1726856700880,
     "user": {
      "displayName": "Hillary Jude",
      "userId": "17943637264411223929"
     },
     "user_tz": -330
    },
    "id": "Ha1VvRHdp1vO",
    "outputId": "87f82e50-6691-49b7-82e9-676ffa50a9c8"
   },
   "outputs": [
    {
     "name": "stdout",
     "output_type": "stream",
     "text": [
      "Where the hell are you?\n",
      "I was searching for you\n",
      "\n"
     ]
    }
   ],
   "source": [
    "# with triple quotes we can print multiple lines of codes with indentation\n",
    "print('''Where the hell are you?\n",
    "I was searching for you\n",
    "''')"
   ]
  },
  {
   "cell_type": "code",
   "execution_count": 269,
   "metadata": {
    "colab": {
     "base_uri": "https://localhost:8080/"
    },
    "executionInfo": {
     "elapsed": 7,
     "status": "ok",
     "timestamp": 1726857194730,
     "user": {
      "displayName": "Hillary Jude",
      "userId": "17943637264411223929"
     },
     "user_tz": -330
    },
    "id": "IArLfHZ_p10N",
    "outputId": "fd47a572-54f2-4846-c05e-4bd2869b8b86"
   },
   "outputs": [
    {
     "name": "stdout",
     "output_type": "stream",
     "text": [
      "the area of the rectange is 6\n"
     ]
    }
   ],
   "source": [
    "length = 2\n",
    "breadth = 3\n",
    "print(f\"the area of the rectange is {length*breadth}\")"
   ]
  },
  {
   "cell_type": "code",
   "execution_count": 270,
   "metadata": {
    "colab": {
     "base_uri": "https://localhost:8080/"
    },
    "executionInfo": {
     "elapsed": 548,
     "status": "ok",
     "timestamp": 1726899137402,
     "user": {
      "displayName": "Hillary Jude",
      "userId": "17943637264411223929"
     },
     "user_tz": -330
    },
    "id": "FbbEgfdEJ5Bt",
    "outputId": "8b023ad7-864c-4576-d276-ca48cb2eb802"
   },
   "outputs": [
    {
     "data": {
      "text/plain": [
       "['where', 'do', 'you', 'live', 'I', 'live', 'in', 'andhra']"
      ]
     },
     "execution_count": 270,
     "metadata": {},
     "output_type": "execute_result"
    }
   ],
   "source": [
    "st = \"where do you live\" + \" I live in andhra\"\n",
    "st.split()"
   ]
  },
  {
   "cell_type": "code",
   "execution_count": 271,
   "metadata": {
    "colab": {
     "base_uri": "https://localhost:8080/",
     "height": 36
    },
    "executionInfo": {
     "elapsed": 604,
     "status": "ok",
     "timestamp": 1726899485350,
     "user": {
      "displayName": "Hillary Jude",
      "userId": "17943637264411223929"
     },
     "user_tz": -330
    },
    "id": "QMyrS3PnNcP1",
    "outputId": "ed741181-d9ea-492c-a7c0-a67481701f7c"
   },
   "outputs": [
    {
     "data": {
      "text/plain": [
       "'w:h:e:r:e: :d:o: :y:o:u: :l:i:v:e: :I: :l:i:v:e: :i:n: :a:n:d:h:r:a'"
      ]
     },
     "execution_count": 271,
     "metadata": {},
     "output_type": "execute_result"
    }
   ],
   "source": [
    "\":\".join(st)"
   ]
  },
  {
   "cell_type": "code",
   "execution_count": 272,
   "metadata": {
    "colab": {
     "base_uri": "https://localhost:8080/"
    },
    "executionInfo": {
     "elapsed": 420,
     "status": "ok",
     "timestamp": 1726899569821,
     "user": {
      "displayName": "Hillary Jude",
      "userId": "17943637264411223929"
     },
     "user_tz": -330
    },
    "id": "UbNI-v2YO3dL",
    "outputId": "0afcda2a-9db7-4ab0-ee27-bb7ea87bc1fb"
   },
   "outputs": [
    {
     "data": {
      "text/plain": [
       "False"
      ]
     },
     "execution_count": 272,
     "metadata": {},
     "output_type": "execute_result"
    }
   ],
   "source": [
    "st.isalpha()"
   ]
  },
  {
   "cell_type": "code",
   "execution_count": 273,
   "metadata": {
    "colab": {
     "base_uri": "https://localhost:8080/",
     "height": 36
    },
    "executionInfo": {
     "elapsed": 394,
     "status": "ok",
     "timestamp": 1726899588537,
     "user": {
      "displayName": "Hillary Jude",
      "userId": "17943637264411223929"
     },
     "user_tz": -330
    },
    "id": "1qC02cDrO3gr",
    "outputId": "b2aeb898-a234-4037-95a6-793cab714fbc"
   },
   "outputs": [
    {
     "data": {
      "text/plain": [
       "'where do you live I live in andhra'"
      ]
     },
     "execution_count": 273,
     "metadata": {},
     "output_type": "execute_result"
    }
   ],
   "source": [
    "\"\".join(st)"
   ]
  },
  {
   "cell_type": "code",
   "execution_count": 274,
   "metadata": {
    "colab": {
     "base_uri": "https://localhost:8080/"
    },
    "executionInfo": {
     "elapsed": 6,
     "status": "ok",
     "timestamp": 1726899603164,
     "user": {
      "displayName": "Hillary Jude",
      "userId": "17943637264411223929"
     },
     "user_tz": -330
    },
    "id": "-fr243-BO3jy",
    "outputId": "2c93f193-8706-44fe-e5ca-208b0ee48f6b"
   },
   "outputs": [
    {
     "data": {
      "text/plain": [
       "False"
      ]
     },
     "execution_count": 274,
     "metadata": {},
     "output_type": "execute_result"
    }
   ],
   "source": [
    "st.isalpha()"
   ]
  },
  {
   "cell_type": "code",
   "execution_count": 275,
   "metadata": {
    "colab": {
     "base_uri": "https://localhost:8080/",
     "height": 36
    },
    "executionInfo": {
     "elapsed": 521,
     "status": "ok",
     "timestamp": 1726899663851,
     "user": {
      "displayName": "Hillary Jude",
      "userId": "17943637264411223929"
     },
     "user_tz": -330
    },
    "id": "tL3LQ_NQNcX5",
    "outputId": "c4f84b9c-021d-4178-ecdb-7fea84aa7eae"
   },
   "outputs": [
    {
     "data": {
      "text/plain": [
       "'WHERE DO YOU LIVE I LIVE IN ANDHRA'"
      ]
     },
     "execution_count": 275,
     "metadata": {},
     "output_type": "execute_result"
    }
   ],
   "source": [
    "st.upper()"
   ]
  },
  {
   "cell_type": "code",
   "execution_count": 276,
   "metadata": {
    "colab": {
     "base_uri": "https://localhost:8080/"
    },
    "executionInfo": {
     "elapsed": 495,
     "status": "ok",
     "timestamp": 1726899678261,
     "user": {
      "displayName": "Hillary Jude",
      "userId": "17943637264411223929"
     },
     "user_tz": -330
    },
    "id": "ext3Gjn-Nchu",
    "outputId": "bdc2fd9e-6238-4c27-e504-64a9c1872b77"
   },
   "outputs": [
    {
     "data": {
      "text/plain": [
       "False"
      ]
     },
     "execution_count": 276,
     "metadata": {},
     "output_type": "execute_result"
    }
   ],
   "source": [
    "st.isalpha() #it returns false as the string contains spaces"
   ]
  },
  {
   "cell_type": "code",
   "execution_count": 277,
   "metadata": {
    "colab": {
     "base_uri": "https://localhost:8080/"
    },
    "executionInfo": {
     "elapsed": 405,
     "status": "ok",
     "timestamp": 1726899776862,
     "user": {
      "displayName": "Hillary Jude",
      "userId": "17943637264411223929"
     },
     "user_tz": -330
    },
    "id": "ixG2kDh8PyYr",
    "outputId": "438eb62e-a0ac-4632-a2dd-6b518132d72b"
   },
   "outputs": [
    {
     "data": {
      "text/plain": [
       "True"
      ]
     },
     "execution_count": 277,
     "metadata": {},
     "output_type": "execute_result"
    }
   ],
   "source": [
    "h = \"soanpapdi\"\n",
    "h.isalpha()  #since the string does not contain any spaces it returns true"
   ]
  },
  {
   "cell_type": "markdown",
   "metadata": {
    "id": "6-B3e5AvQTXh"
   },
   "source": [
    "How to find ascii characters"
   ]
  },
  {
   "cell_type": "code",
   "execution_count": 278,
   "metadata": {
    "colab": {
     "base_uri": "https://localhost:8080/"
    },
    "executionInfo": {
     "elapsed": 414,
     "status": "ok",
     "timestamp": 1726899928209,
     "user": {
      "displayName": "Hillary Jude",
      "userId": "17943637264411223929"
     },
     "user_tz": -330
    },
    "id": "VTrUyRqyQWfO",
    "outputId": "78e3d442-3c30-4126-fc7f-8de10a486d04"
   },
   "outputs": [
    {
     "data": {
      "text/plain": [
       "97"
      ]
     },
     "execution_count": 278,
     "metadata": {},
     "output_type": "execute_result"
    }
   ],
   "source": [
    "ord('a')"
   ]
  },
  {
   "cell_type": "code",
   "execution_count": 279,
   "metadata": {
    "colab": {
     "base_uri": "https://localhost:8080/",
     "height": 36
    },
    "executionInfo": {
     "elapsed": 514,
     "status": "ok",
     "timestamp": 1726899940395,
     "user": {
      "displayName": "Hillary Jude",
      "userId": "17943637264411223929"
     },
     "user_tz": -330
    },
    "id": "LZWdDZi_QcFo",
    "outputId": "60f255ba-9520-4785-80e5-b8fdda21e667"
   },
   "outputs": [
    {
     "data": {
      "text/plain": [
       "'a'"
      ]
     },
     "execution_count": 279,
     "metadata": {},
     "output_type": "execute_result"
    }
   ],
   "source": [
    "chr(97)"
   ]
  },
  {
   "cell_type": "code",
   "execution_count": 280,
   "metadata": {
    "colab": {
     "base_uri": "https://localhost:8080/"
    },
    "executionInfo": {
     "elapsed": 414,
     "status": "ok",
     "timestamp": 1726900074214,
     "user": {
      "displayName": "Hillary Jude",
      "userId": "17943637264411223929"
     },
     "user_tz": -330
    },
    "id": "nQLkbFjDQpyl",
    "outputId": "0c08ea14-a56d-4e0f-cf18-0310cfa01107"
   },
   "outputs": [
    {
     "data": {
      "text/plain": [
       "['today is mypython interview']"
      ]
     },
     "execution_count": 280,
     "metadata": {},
     "output_type": "execute_result"
    }
   ],
   "source": [
    "G = \"today is my\" + \"python interview\"\n",
    "G.split(sep=',')"
   ]
  },
  {
   "cell_type": "code",
   "execution_count": 281,
   "metadata": {
    "colab": {
     "base_uri": "https://localhost:8080/"
    },
    "executionInfo": {
     "elapsed": 443,
     "status": "ok",
     "timestamp": 1726900586328,
     "user": {
      "displayName": "Hillary Jude",
      "userId": "17943637264411223929"
     },
     "user_tz": -330
    },
    "id": "MXSkiyM2Qp84",
    "outputId": "1da4b061-be15-4079-8e26-28dd7669097c"
   },
   "outputs": [
    {
     "data": {
      "text/plain": [
       "['today is mypython interview']"
      ]
     },
     "execution_count": 281,
     "metadata": {},
     "output_type": "execute_result"
    }
   ],
   "source": [
    "G.split(\"|\")"
   ]
  },
  {
   "cell_type": "code",
   "execution_count": 282,
   "metadata": {
    "colab": {
     "base_uri": "https://localhost:8080/"
    },
    "executionInfo": {
     "elapsed": 389,
     "status": "ok",
     "timestamp": 1726900721743,
     "user": {
      "displayName": "Hillary Jude",
      "userId": "17943637264411223929"
     },
     "user_tz": -330
    },
    "id": "Bk2g1tllQqBe",
    "outputId": "e317cc38-f45b-4616-ca69-f1454e5f7b79"
   },
   "outputs": [
    {
     "name": "stdout",
     "output_type": "stream",
     "text": [
      "Today, is, my, python, interview\n"
     ]
    }
   ],
   "source": [
    "string = \"Today is my python interview\"\n",
    "new_string = string.replace(\" \", \", \")\n",
    "print(new_string)"
   ]
  },
  {
   "cell_type": "markdown",
   "metadata": {
    "id": "tjYzvMrTVyUn"
   },
   "source": [
    "## Dictionaries"
   ]
  },
  {
   "cell_type": "markdown",
   "metadata": {
    "id": "Gt6FHF_DZJ9X"
   },
   "source": [
    "Dictionaries are unordered. So you cannot retrieve particular index and ask for its values."
   ]
  },
  {
   "cell_type": "code",
   "execution_count": 283,
   "metadata": {
    "colab": {
     "base_uri": "https://localhost:8080/"
    },
    "executionInfo": {
     "elapsed": 392,
     "status": "ok",
     "timestamp": 1726902031234,
     "user": {
      "displayName": "Hillary Jude",
      "userId": "17943637264411223929"
     },
     "user_tz": -330
    },
    "id": "gRyHruFZV1jd",
    "outputId": "abd26eca-656e-49f8-d885-b085e3f14a5b"
   },
   "outputs": [
    {
     "name": "stdout",
     "output_type": "stream",
     "text": [
      "{'amul': [23, 45], 'kwality': 33, 'aavin': [233, 44]}\n"
     ]
    }
   ],
   "source": [
    "#Dictionary represented in {'key':value}, it has a key and a value. Every values has one key.\n",
    "ice = {\n",
    "    'amul' : [23,45],\n",
    "    'kwality' : 33,\n",
    "    'aavin' : [233,44]\n",
    "}\n",
    "print(ice)"
   ]
  },
  {
   "cell_type": "code",
   "execution_count": 284,
   "metadata": {
    "colab": {
     "base_uri": "https://localhost:8080/"
    },
    "executionInfo": {
     "elapsed": 3,
     "status": "ok",
     "timestamp": 1726902069282,
     "user": {
      "displayName": "Hillary Jude",
      "userId": "17943637264411223929"
     },
     "user_tz": -330
    },
    "id": "g6RdcyJgYkeX",
    "outputId": "965481a3-8253-4f87-a70b-d6583e60240d"
   },
   "outputs": [
    {
     "data": {
      "text/plain": [
       "dict"
      ]
     },
     "execution_count": 284,
     "metadata": {},
     "output_type": "execute_result"
    }
   ],
   "source": [
    "type(ice)"
   ]
  },
  {
   "cell_type": "code",
   "execution_count": 285,
   "metadata": {
    "colab": {
     "base_uri": "https://localhost:8080/"
    },
    "executionInfo": {
     "elapsed": 395,
     "status": "ok",
     "timestamp": 1726902126436,
     "user": {
      "displayName": "Hillary Jude",
      "userId": "17943637264411223929"
     },
     "user_tz": -330
    },
    "id": "bh-5diPHYkk7",
    "outputId": "99a4c69f-7e82-4c3b-b85b-1379d55e7ec6"
   },
   "outputs": [
    {
     "data": {
      "text/plain": [
       "[23, 45]"
      ]
     },
     "execution_count": 285,
     "metadata": {},
     "output_type": "execute_result"
    }
   ],
   "source": [
    "ice.get('amul')"
   ]
  },
  {
   "cell_type": "code",
   "execution_count": 286,
   "metadata": {
    "colab": {
     "base_uri": "https://localhost:8080/",
     "height": 141
    },
    "executionInfo": {
     "elapsed": 4,
     "status": "error",
     "timestamp": 1726902140242,
     "user": {
      "displayName": "Hillary Jude",
      "userId": "17943637264411223929"
     },
     "user_tz": -330
    },
    "id": "zirJmRHmYkot",
    "outputId": "a92d2b40-2346-4c3f-c2dc-c22d68c9a120"
   },
   "outputs": [],
   "source": [
    "# ice[2] As dictionaries are unordered, retreiving is not possible"
   ]
  },
  {
   "cell_type": "code",
   "execution_count": 287,
   "metadata": {
    "colab": {
     "base_uri": "https://localhost:8080/"
    },
    "executionInfo": {
     "elapsed": 399,
     "status": "ok",
     "timestamp": 1726902319392,
     "user": {
      "displayName": "Hillary Jude",
      "userId": "17943637264411223929"
     },
     "user_tz": -330
    },
    "id": "E94_A24rYksZ",
    "outputId": "e4a9d659-7421-4f76-cdec-990c5f1b0954"
   },
   "outputs": [
    {
     "data": {
      "text/plain": [
       "[23, 45]"
      ]
     },
     "execution_count": 287,
     "metadata": {},
     "output_type": "execute_result"
    }
   ],
   "source": [
    "#rather we can use the key and retrieve the data\n",
    "ice['amul']"
   ]
  },
  {
   "cell_type": "code",
   "execution_count": 288,
   "metadata": {
    "colab": {
     "base_uri": "https://localhost:8080/"
    },
    "executionInfo": {
     "elapsed": 419,
     "status": "ok",
     "timestamp": 1726903460959,
     "user": {
      "displayName": "Hillary Jude",
      "userId": "17943637264411223929"
     },
     "user_tz": -330
    },
    "id": "QjvLh8dqYkwL",
    "outputId": "b3526a3d-8b7a-4809-f8eb-6f7c4443984c"
   },
   "outputs": [
    {
     "name": "stdout",
     "output_type": "stream",
     "text": [
      "{'amul': [23, 45], 'kwality': 33, 'aavin': [233, 44], 'daily': [23, 44]}\n"
     ]
    }
   ],
   "source": [
    "ice['daily'] = [23,44]\n",
    "print(ice)"
   ]
  },
  {
   "cell_type": "code",
   "execution_count": 289,
   "metadata": {
    "colab": {
     "base_uri": "https://localhost:8080/"
    },
    "executionInfo": {
     "elapsed": 4,
     "status": "ok",
     "timestamp": 1726903735545,
     "user": {
      "displayName": "Hillary Jude",
      "userId": "17943637264411223929"
     },
     "user_tz": -330
    },
    "id": "pj4Gei0besaJ",
    "outputId": "f3266091-e525-43f6-a028-603de5de8e19"
   },
   "outputs": [
    {
     "name": "stdout",
     "output_type": "stream",
     "text": [
      "<class 'list'>\n"
     ]
    }
   ],
   "source": [
    "#we can have tuples or list inside a dictionary. Eg\n",
    "lst = [('arun',33),('govind',450)]\n",
    "print(type(lst))"
   ]
  },
  {
   "cell_type": "code",
   "execution_count": 290,
   "metadata": {
    "colab": {
     "base_uri": "https://localhost:8080/"
    },
    "executionInfo": {
     "elapsed": 371,
     "status": "ok",
     "timestamp": 1726903793761,
     "user": {
      "displayName": "Hillary Jude",
      "userId": "17943637264411223929"
     },
     "user_tz": -330
    },
    "id": "NwlaGW_qesd7",
    "outputId": "e11ae36a-5f36-4f3c-c9b2-fc2d83252818"
   },
   "outputs": [
    {
     "name": "stdout",
     "output_type": "stream",
     "text": [
      "{'arun': 33, 'govind': 450}\n",
      "<class 'dict'>\n"
     ]
    }
   ],
   "source": [
    "pk = dict(lst)\n",
    "print(pk)\n",
    "print(type(pk))"
   ]
  },
  {
   "cell_type": "code",
   "execution_count": 291,
   "metadata": {
    "colab": {
     "base_uri": "https://localhost:8080/"
    },
    "executionInfo": {
     "elapsed": 2,
     "status": "ok",
     "timestamp": 1726905045249,
     "user": {
      "displayName": "Hillary Jude",
      "userId": "17943637264411223929"
     },
     "user_tz": -330
    },
    "id": "myGfDuiXeshC",
    "outputId": "624e6e3f-93ac-4cb2-e412-a5a3eb290e0e"
   },
   "outputs": [
    {
     "data": {
      "text/plain": [
       "dict_keys(['arun', 'govind'])"
      ]
     },
     "execution_count": 291,
     "metadata": {},
     "output_type": "execute_result"
    }
   ],
   "source": [
    "pk.keys()"
   ]
  },
  {
   "cell_type": "code",
   "execution_count": 292,
   "metadata": {
    "colab": {
     "base_uri": "https://localhost:8080/"
    },
    "executionInfo": {
     "elapsed": 391,
     "status": "ok",
     "timestamp": 1726905067743,
     "user": {
      "displayName": "Hillary Jude",
      "userId": "17943637264411223929"
     },
     "user_tz": -330
    },
    "id": "Y26ESieUesj-",
    "outputId": "7045432d-73ac-4c82-b869-a51451f2773c"
   },
   "outputs": [
    {
     "data": {
      "text/plain": [
       "['arun', 'govind']"
      ]
     },
     "execution_count": 292,
     "metadata": {},
     "output_type": "execute_result"
    }
   ],
   "source": [
    "list(pk.keys())"
   ]
  },
  {
   "cell_type": "code",
   "execution_count": 293,
   "metadata": {
    "colab": {
     "base_uri": "https://localhost:8080/"
    },
    "executionInfo": {
     "elapsed": 367,
     "status": "ok",
     "timestamp": 1726905153648,
     "user": {
      "displayName": "Hillary Jude",
      "userId": "17943637264411223929"
     },
     "user_tz": -330
    },
    "id": "p7HpLKZ8esm-",
    "outputId": "fee91a19-0448-4051-f2b5-cd6933a643ab"
   },
   "outputs": [
    {
     "name": "stdout",
     "output_type": "stream",
     "text": [
      "{'arun': 33, 'govind': 450}\n"
     ]
    }
   ],
   "source": [
    "print(pk)"
   ]
  },
  {
   "cell_type": "code",
   "execution_count": 294,
   "metadata": {
    "colab": {
     "base_uri": "https://localhost:8080/"
    },
    "executionInfo": {
     "elapsed": 361,
     "status": "ok",
     "timestamp": 1726905231363,
     "user": {
      "displayName": "Hillary Jude",
      "userId": "17943637264411223929"
     },
     "user_tz": -330
    },
    "id": "IunDUC0ykZQO",
    "outputId": "b11e662e-ca98-40f3-a0b8-91190530f6af"
   },
   "outputs": [
    {
     "name": "stdout",
     "output_type": "stream",
     "text": [
      "arun - 33\n",
      "govind - 450\n"
     ]
    }
   ],
   "source": [
    "for i in pk:\n",
    "  print(i,\"-\",pk[i])"
   ]
  },
  {
   "cell_type": "markdown",
   "metadata": {
    "id": "t0AjeKywmD0d"
   },
   "source": [
    "## Packing unpacking"
   ]
  },
  {
   "cell_type": "code",
   "execution_count": 295,
   "metadata": {
    "colab": {
     "base_uri": "https://localhost:8080/"
    },
    "executionInfo": {
     "elapsed": 373,
     "status": "ok",
     "timestamp": 1726905671646,
     "user": {
      "displayName": "Hillary Jude",
      "userId": "17943637264411223929"
     },
     "user_tz": -330
    },
    "id": "49UIIMNdmB1N",
    "outputId": "47e0eef7-a2fa-4e8b-9c83-721ed18bb3a6"
   },
   "outputs": [
    {
     "name": "stdout",
     "output_type": "stream",
     "text": [
      "(5, -1, 6)\n"
     ]
    }
   ],
   "source": [
    "def loo(a,b):\n",
    "  return a+b, a-b, a*b\n",
    "\n",
    "print(loo(2,3))"
   ]
  },
  {
   "cell_type": "code",
   "execution_count": 296,
   "metadata": {
    "id": "Rm_BN7hZmBx6"
   },
   "outputs": [],
   "source": [
    "a,b,c = loo(4,5)"
   ]
  },
  {
   "cell_type": "code",
   "execution_count": 297,
   "metadata": {
    "colab": {
     "base_uri": "https://localhost:8080/"
    },
    "executionInfo": {
     "elapsed": 2,
     "status": "ok",
     "timestamp": 1726905691479,
     "user": {
      "displayName": "Hillary Jude",
      "userId": "17943637264411223929"
     },
     "user_tz": -330
    },
    "id": "qP4qR_5UmBvd",
    "outputId": "a14ed377-586c-43f4-b97e-2769e449ff87"
   },
   "outputs": [
    {
     "name": "stdout",
     "output_type": "stream",
     "text": [
      "9 -1 20\n"
     ]
    }
   ],
   "source": [
    "print(a,b,c)"
   ]
  },
  {
   "cell_type": "code",
   "execution_count": 298,
   "metadata": {
    "colab": {
     "base_uri": "https://localhost:8080/"
    },
    "executionInfo": {
     "elapsed": 389,
     "status": "ok",
     "timestamp": 1726905699578,
     "user": {
      "displayName": "Hillary Jude",
      "userId": "17943637264411223929"
     },
     "user_tz": -330
    },
    "id": "9ZxWcV-SmBtA",
    "outputId": "ee77b926-65b2-4dca-e23f-d81285a548c3"
   },
   "outputs": [
    {
     "data": {
      "text/plain": [
       "9"
      ]
     },
     "execution_count": 298,
     "metadata": {},
     "output_type": "execute_result"
    }
   ],
   "source": [
    "a"
   ]
  },
  {
   "cell_type": "code",
   "execution_count": 299,
   "metadata": {
    "colab": {
     "base_uri": "https://localhost:8080/"
    },
    "executionInfo": {
     "elapsed": 357,
     "status": "ok",
     "timestamp": 1726905707448,
     "user": {
      "displayName": "Hillary Jude",
      "userId": "17943637264411223929"
     },
     "user_tz": -330
    },
    "id": "8nVJdaIHmdfn",
    "outputId": "dc5f3902-a87a-4ad4-ce55-35da740db602"
   },
   "outputs": [
    {
     "data": {
      "text/plain": [
       "-1"
      ]
     },
     "execution_count": 299,
     "metadata": {},
     "output_type": "execute_result"
    }
   ],
   "source": [
    "b"
   ]
  },
  {
   "cell_type": "code",
   "execution_count": 300,
   "metadata": {
    "colab": {
     "base_uri": "https://localhost:8080/"
    },
    "executionInfo": {
     "elapsed": 352,
     "status": "ok",
     "timestamp": 1726905773365,
     "user": {
      "displayName": "Hillary Jude",
      "userId": "17943637264411223929"
     },
     "user_tz": -330
    },
    "id": "G_750M5_mdiu",
    "outputId": "fba45724-c177-49b4-b61f-d6f2aea3eebd"
   },
   "outputs": [
    {
     "name": "stdout",
     "output_type": "stream",
     "text": [
      "arun : 33\n",
      "govind : 450\n"
     ]
    }
   ],
   "source": [
    "for k, v in pk.items(): #the values get unpacked. keys go to k and values go to v.\n",
    "  print(k, \":\", v)"
   ]
  },
  {
   "cell_type": "code",
   "execution_count": 301,
   "metadata": {
    "colab": {
     "base_uri": "https://localhost:8080/",
     "height": 36
    },
    "executionInfo": {
     "elapsed": 597,
     "status": "ok",
     "timestamp": 1726905818605,
     "user": {
      "displayName": "Hillary Jude",
      "userId": "17943637264411223929"
     },
     "user_tz": -330
    },
    "id": "zW57bae_m3rg",
    "outputId": "abee1a7c-38b5-4ce2-f655-7b46ef8dc5bf"
   },
   "outputs": [
    {
     "data": {
      "text/plain": [
       "'govind'"
      ]
     },
     "execution_count": 301,
     "metadata": {},
     "output_type": "execute_result"
    }
   ],
   "source": [
    "k"
   ]
  },
  {
   "cell_type": "code",
   "execution_count": 302,
   "metadata": {
    "id": "0XdCJKT99Wyr"
   },
   "outputs": [],
   "source": [
    "EMPLOYEE_DB = {\n",
    "'HR' : {\n",
    "'967' : 51000, # Employee number '967' has salary of 51,000\n",
    "'650' : 60000\n",
    "},\n",
    "'TECH' : {\n",
    "'516' : 95000,\n",
    "'1001' : 75000,\n",
    "'918' : 80000\n",
    "},\n",
    "'SALES' : {\n",
    "'887' : 45000,\n",
    "'490' : 63000\n",
    "}\n",
    "}"
   ]
  },
  {
   "cell_type": "code",
   "execution_count": 303,
   "metadata": {
    "colab": {
     "base_uri": "https://localhost:8080/"
    },
    "executionInfo": {
     "elapsed": 644,
     "status": "ok",
     "timestamp": 1726911728734,
     "user": {
      "displayName": "Hillary Jude",
      "userId": "17943637264411223929"
     },
     "user_tz": -330
    },
    "id": "L82YGcKf9Yg8",
    "outputId": "31f09bb5-d89e-4bf1-e6fe-4958f030cb4d"
   },
   "outputs": [
    {
     "name": "stdout",
     "output_type": "stream",
     "text": [
      "{'HR': {'967': 51000, '650': 60000}, 'TECH': {'516': 95000, '1001': 75000, '918': 80000}, 'SALES': {'887': 45000, '490': 63000}}\n"
     ]
    }
   ],
   "source": [
    "print(EMPLOYEE_DB)"
   ]
  },
  {
   "cell_type": "code",
   "execution_count": 304,
   "metadata": {
    "colab": {
     "base_uri": "https://localhost:8080/"
    },
    "executionInfo": {
     "elapsed": 508,
     "status": "ok",
     "timestamp": 1726911791785,
     "user": {
      "displayName": "Hillary Jude",
      "userId": "17943637264411223929"
     },
     "user_tz": -330
    },
    "id": "pW-4s3NV9fmN",
    "outputId": "c346d5eb-c7d8-4ee5-cd01-1d58133ebcfc"
   },
   "outputs": [
    {
     "data": {
      "text/plain": [
       "95000"
      ]
     },
     "execution_count": 304,
     "metadata": {},
     "output_type": "execute_result"
    }
   ],
   "source": [
    "EMPLOYEE_DB['TECH']['516']"
   ]
  },
  {
   "cell_type": "code",
   "execution_count": 305,
   "metadata": {
    "colab": {
     "base_uri": "https://localhost:8080/"
    },
    "executionInfo": {
     "elapsed": 493,
     "status": "ok",
     "timestamp": 1726912183251,
     "user": {
      "displayName": "Hillary Jude",
      "userId": "17943637264411223929"
     },
     "user_tz": -330
    },
    "id": "wUt_aZqN9fur",
    "outputId": "1b87ffe1-6796-4d67-ed0d-5d62b709856b"
   },
   "outputs": [
    {
     "name": "stdout",
     "output_type": "stream",
     "text": [
      "83333.33333333333\n"
     ]
    }
   ],
   "source": [
    "AVG = (sum(EMPLOYEE_DB['TECH'].values()))/len(EMPLOYEE_DB)\n",
    "print(AVG)"
   ]
  },
  {
   "cell_type": "code",
   "execution_count": 306,
   "metadata": {
    "colab": {
     "base_uri": "https://localhost:8080/"
    },
    "executionInfo": {
     "elapsed": 6,
     "status": "ok",
     "timestamp": 1726913240953,
     "user": {
      "displayName": "Hillary Jude",
      "userId": "17943637264411223929"
     },
     "user_tz": -330
    },
    "id": "JOgxn2UOC_JC",
    "outputId": "08bc8db2-08e6-46d9-9cdd-fe1d083754f0"
   },
   "outputs": [
    {
     "name": "stdout",
     "output_type": "stream",
     "text": [
      "(2, 45, [41, 45], 55)\n"
     ]
    }
   ],
   "source": [
    "#list inside a tuple can be modified, though tuples are immutable\n",
    "\n",
    "tup = (2,45,[23,45],55)\n",
    "tup[2][0] = 41\n",
    "print(tup)"
   ]
  },
  {
   "cell_type": "markdown",
   "metadata": {
    "id": "8j64_3MrDixr"
   },
   "source": [
    "## INTERNING"
   ]
  },
  {
   "cell_type": "markdown",
   "metadata": {
    "id": "47vsqSurDm8-"
   },
   "source": [
    "In Python, interning is a compiler and interpreter optimization technique that stores only one copy of a string value in memory. This technique is also known as string interning"
   ]
  },
  {
   "cell_type": "code",
   "execution_count": 307,
   "metadata": {
    "id": "HpAvnmHGDTnZ"
   },
   "outputs": [],
   "source": [
    "a = 4\n",
    "b = 4"
   ]
  },
  {
   "cell_type": "code",
   "execution_count": 308,
   "metadata": {
    "colab": {
     "base_uri": "https://localhost:8080/"
    },
    "executionInfo": {
     "elapsed": 412,
     "status": "ok",
     "timestamp": 1726913405356,
     "user": {
      "displayName": "Hillary Jude",
      "userId": "17943637264411223929"
     },
     "user_tz": -330
    },
    "id": "cJpVu6WgDT4x",
    "outputId": "4f5700ef-b03a-4a9e-bf8a-81a61b5bdc9a"
   },
   "outputs": [
    {
     "data": {
      "text/plain": [
       "True"
      ]
     },
     "execution_count": 308,
     "metadata": {},
     "output_type": "execute_result"
    }
   ],
   "source": [
    "a == b"
   ]
  },
  {
   "cell_type": "code",
   "execution_count": 309,
   "metadata": {
    "colab": {
     "base_uri": "https://localhost:8080/"
    },
    "executionInfo": {
     "elapsed": 8,
     "status": "ok",
     "timestamp": 1726913412736,
     "user": {
      "displayName": "Hillary Jude",
      "userId": "17943637264411223929"
     },
     "user_tz": -330
    },
    "id": "lKlE18s6DUBL",
    "outputId": "697ceba6-47e2-46c0-c027-0f64c8c31ef5"
   },
   "outputs": [
    {
     "data": {
      "text/plain": [
       "True"
      ]
     },
     "execution_count": 309,
     "metadata": {},
     "output_type": "execute_result"
    }
   ],
   "source": [
    "a is b"
   ]
  },
  {
   "cell_type": "code",
   "execution_count": 310,
   "metadata": {
    "colab": {
     "base_uri": "https://localhost:8080/"
    },
    "executionInfo": {
     "elapsed": 379,
     "status": "ok",
     "timestamp": 1726913460217,
     "user": {
      "displayName": "Hillary Jude",
      "userId": "17943637264411223929"
     },
     "user_tz": -330
    },
    "id": "bsSn3dz9D4bv",
    "outputId": "01a99f5b-509f-4773-ec0c-74cb4712dad5"
   },
   "outputs": [
    {
     "data": {
      "text/plain": [
       "(140712970095128, 140712970095128)"
      ]
     },
     "execution_count": 310,
     "metadata": {},
     "output_type": "execute_result"
    }
   ],
   "source": [
    "id(a), id(b)"
   ]
  },
  {
   "cell_type": "code",
   "execution_count": 311,
   "metadata": {
    "colab": {
     "base_uri": "https://localhost:8080/"
    },
    "executionInfo": {
     "elapsed": 533,
     "status": "ok",
     "timestamp": 1726913509511,
     "user": {
      "displayName": "Hillary Jude",
      "userId": "17943637264411223929"
     },
     "user_tz": -330
    },
    "id": "_R_OMVM2D4pF",
    "outputId": "e0b8d4d8-736e-4334-b713-954497a7888c"
   },
   "outputs": [
    {
     "data": {
      "text/plain": [
       "True"
      ]
     },
     "execution_count": 311,
     "metadata": {},
     "output_type": "execute_result"
    }
   ],
   "source": [
    "a = '3'\n",
    "b = '3'\n",
    "a is b"
   ]
  },
  {
   "cell_type": "code",
   "execution_count": 312,
   "metadata": {
    "colab": {
     "base_uri": "https://localhost:8080/"
    },
    "executionInfo": {
     "elapsed": 449,
     "status": "ok",
     "timestamp": 1726913524040,
     "user": {
      "displayName": "Hillary Jude",
      "userId": "17943637264411223929"
     },
     "user_tz": -330
    },
    "id": "BQ2KbenXEQ1y",
    "outputId": "c67a7bd3-ab56-40f0-9677-247baac848a7"
   },
   "outputs": [
    {
     "data": {
      "text/plain": [
       "False"
      ]
     },
     "execution_count": 312,
     "metadata": {},
     "output_type": "execute_result"
    }
   ],
   "source": [
    "a = '3@'\n",
    "b = '3@'\n",
    "a is b"
   ]
  },
  {
   "cell_type": "markdown",
   "metadata": {
    "id": "7qTBXjH4EXXy"
   },
   "source": [
    "Memory space: Saves memory space by storing only one copy of a string value\n",
    "Fast comparisons: Saves time when comparing strings that have the same value\n",
    "Fast dictionary lookups: Makes dictionary lookups faster\n"
   ]
  },
  {
   "cell_type": "markdown",
   "metadata": {
    "id": "awtPbSYiEaDR"
   },
   "source": []
  }
 ],
 "metadata": {
  "colab": {
   "authorship_tag": "ABX9TyOOIOE7gVOCkuIg1PTXn5nm",
   "provenance": []
  },
  "kernelspec": {
   "display_name": "Python 3 (ipykernel)",
   "language": "python",
   "name": "python3"
  },
  "language_info": {
   "codemirror_mode": {
    "name": "ipython",
    "version": 3
   },
   "file_extension": ".py",
   "mimetype": "text/x-python",
   "name": "python",
   "nbconvert_exporter": "python",
   "pygments_lexer": "ipython3",
   "version": "3.12.6"
  }
 },
 "nbformat": 4,
 "nbformat_minor": 4
}
